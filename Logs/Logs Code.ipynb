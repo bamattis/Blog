{
 "cells": [
  {
   "cell_type": "markdown",
   "metadata": {},
   "source": [
    "## Setting up and output file"
   ]
  },
  {
   "cell_type": "code",
   "execution_count": 1,
   "metadata": {
    "ExecuteTime": {
     "end_time": "2021-12-10T04:08:54.594183Z",
     "start_time": "2021-12-10T04:08:54.563125Z"
    }
   },
   "outputs": [],
   "source": [
    "import logging\n",
    "logger = logging.getLogger()\n",
    "fhandler = logging.FileHandler(filename='test_log.log', mode='a')\n",
    "logger.addHandler(fhandler)\n",
    "logging.warning('This is a warning message')"
   ]
  },
  {
   "cell_type": "markdown",
   "metadata": {},
   "source": [
    "## Adding formatting to the log outputs"
   ]
  },
  {
   "cell_type": "code",
   "execution_count": 2,
   "metadata": {
    "ExecuteTime": {
     "end_time": "2021-12-10T04:09:04.276690Z",
     "start_time": "2021-12-10T04:09:04.261060Z"
    }
   },
   "outputs": [],
   "source": [
    "#export to a separate file while running in Jupyter\n",
    "import logging\n",
    "logger = logging.getLogger()\n",
    "fhandler = logging.FileHandler(filename='mylog.log', mode='w')\n",
    "formatter = logging.Formatter('%(asctime)s - %(name)s - %(lineno)s - %(levelname)s - %(message)s')\n",
    "fhandler.setFormatter(formatter)\n",
    "logger.addHandler(fhandler)\n",
    "logger.setLevel(logging.DEBUG)\n",
    "\n",
    "logging.error('hello!')\n",
    "logging.debug('This is a debug message')\n",
    "logging.info('this is an info message')\n",
    "logging.warning('This is a warning message')\n"
   ]
  },
  {
   "cell_type": "markdown",
   "metadata": {},
   "source": [
    "## Outputting to the console"
   ]
  },
  {
   "cell_type": "code",
   "execution_count": 3,
   "metadata": {
    "ExecuteTime": {
     "end_time": "2021-12-10T04:09:16.630342Z",
     "start_time": "2021-12-10T04:09:16.599068Z"
    }
   },
   "outputs": [
    {
     "name": "stdout",
     "output_type": "stream",
     "text": [
      "2021-12-09 22:09:16,599 - root  - 10 - ERROR - hello!\n"
     ]
    }
   ],
   "source": [
    "import logging\n",
    "import module\n",
    "import sys\n",
    "logger = logging.getLogger()\n",
    "formatter = logging.Formatter('%(asctime)s - %(name)s  - %(lineno)s - %(levelname)s - %(message)s')\n",
    "consoleHandler = logging.StreamHandler(sys.stdout)\n",
    "consoleHandler.setFormatter(formatter)\n",
    "logger.addHandler(consoleHandler)\n",
    "\n",
    "logging.error('hello!')"
   ]
  },
  {
   "cell_type": "markdown",
   "metadata": {},
   "source": [
    "## Adding Variable Outputs"
   ]
  },
  {
   "cell_type": "code",
   "execution_count": 4,
   "metadata": {
    "ExecuteTime": {
     "end_time": "2021-12-10T04:09:21.972268Z",
     "start_time": "2021-12-10T04:09:21.941026Z"
    }
   },
   "outputs": [
    {
     "name": "stdout",
     "output_type": "stream",
     "text": [
      "2021-12-09 22:09:21,941 - root  - 12 - DEBUG - var1: 1; var2: cat\n"
     ]
    }
   ],
   "source": [
    "#export to a separate file while running in Jupyter\n",
    "import logging\n",
    "logger = logging.getLogger()\n",
    "fhandler = logging.FileHandler(filename='mylogVar.log', mode='w')\n",
    "formatter = logging.Formatter('%(asctime)s - %(name)s - %(lineno)s - %(levelname)s - %(message)s')\n",
    "fhandler.setFormatter(formatter)\n",
    "logger.addHandler(fhandler)\n",
    "logger.setLevel(logging.DEBUG)\n",
    "\n",
    "var1 = 1\n",
    "var2 = 'cat'\n",
    "logging.debug('var1: {}; var2: {}'.format(var1, var2))"
   ]
  },
  {
   "cell_type": "markdown",
   "metadata": {},
   "source": [
    "## Putting it all together"
   ]
  },
  {
   "cell_type": "code",
   "execution_count": 5,
   "metadata": {
    "ExecuteTime": {
     "end_time": "2021-12-10T04:09:29.953949Z",
     "start_time": "2021-12-10T04:09:29.907077Z"
    }
   },
   "outputs": [
    {
     "name": "stdout",
     "output_type": "stream",
     "text": [
      "2021-12-09 22:09:29,922 - root  - 17 - ERROR - This is an error message\n",
      "2021-12-09 22:09:29,922 - 17 - ERROR - This is an error message\n",
      "2021-12-09 22:09:29,922 - root  - 18 - DEBUG - This debug message is ONLY seen in the console\n",
      "2021-12-09 22:09:29,922 - 18 - DEBUG - This debug message is ONLY seen in the console\n",
      "2021-12-09 22:09:29,922 - root  - 19 - INFO - This is an info message\n",
      "2021-12-09 22:09:29,922 - 19 - INFO - This is an info message\n",
      "2021-12-09 22:09:29,922 - root  - 22 - INFO - var1: 1; var2: cat\n",
      "2021-12-09 22:09:29,922 - 22 - INFO - var1: 1; var2: cat\n"
     ]
    }
   ],
   "source": [
    "import logging\n",
    "import sys\n",
    "logger = logging.getLogger()\n",
    "formatter = logging.Formatter('%(asctime)s - %(lineno)s - %(levelname)s - %(message)s')\n",
    "logger.setLevel(logging.DEBUG)\n",
    "\n",
    "fhandler = logging.FileHandler(filename='file_out.log', mode='w')\n",
    "fhandler.setFormatter(formatter)\n",
    "fhandler.setLevel(logging.INFO)\n",
    "logger.addHandler(fhandler)\n",
    "\n",
    "consoleHandler = logging.StreamHandler(sys.stdout)\n",
    "consoleHandler.setFormatter(formatter)\n",
    "consoleHandler.setLevel(logging.DEBUG)\n",
    "logger.addHandler(consoleHandler)\n",
    "\n",
    "logging.error('This is an error message')\n",
    "logging.debug('This debug message is ONLY seen in the console')\n",
    "logging.info('This is an info message')\n",
    "var1 = 1\n",
    "var2 = 'cat'\n",
    "logging.info('var1: {}; var2: {}'.format(var1, var2))"
   ]
  },
  {
   "cell_type": "markdown",
   "metadata": {},
   "source": [
    "## Reading our log file contents"
   ]
  },
  {
   "cell_type": "code",
   "execution_count": 6,
   "metadata": {
    "ExecuteTime": {
     "end_time": "2021-12-10T04:09:43.822470Z",
     "start_time": "2021-12-10T04:09:43.791277Z"
    }
   },
   "outputs": [
    {
     "name": "stdout",
     "output_type": "stream",
     "text": [
      "2021-12-09 22:09:29,922 - 17 - ERROR - This is an error message\n",
      "2021-12-09 22:09:29,922 - 19 - INFO - This is an info message\n",
      "2021-12-09 22:09:29,922 - 22 - INFO - var1: 1; var2: cat\n",
      "\n"
     ]
    }
   ],
   "source": [
    "# read the log file contents:\n",
    "with open(\"file_out.log\") as log:\n",
    "    print(log.read())"
   ]
  },
  {
   "cell_type": "code",
   "execution_count": null,
   "metadata": {},
   "outputs": [],
   "source": []
  }
 ],
 "metadata": {
  "kernelspec": {
   "display_name": "Python 3",
   "language": "python",
   "name": "python3"
  },
  "language_info": {
   "codemirror_mode": {
    "name": "ipython",
    "version": 3
   },
   "file_extension": ".py",
   "mimetype": "text/x-python",
   "name": "python",
   "nbconvert_exporter": "python",
   "pygments_lexer": "ipython3",
   "version": "3.8.5"
  },
  "toc": {
   "base_numbering": 1,
   "nav_menu": {},
   "number_sections": true,
   "sideBar": true,
   "skip_h1_title": false,
   "title_cell": "Table of Contents",
   "title_sidebar": "Contents",
   "toc_cell": false,
   "toc_position": {},
   "toc_section_display": true,
   "toc_window_display": true
  }
 },
 "nbformat": 4,
 "nbformat_minor": 4
}
