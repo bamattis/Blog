{
 "cells": [
  {
   "cell_type": "markdown",
   "metadata": {},
   "source": [
    "# Imports"
   ]
  },
  {
   "cell_type": "code",
   "execution_count": 1,
   "metadata": {},
   "outputs": [],
   "source": [
    "#normal imports\n",
    "import numpy as np\n",
    "import pandas as pd\n",
    "import matplotlib.pyplot as plt\n",
    "#Gradient Color Bar Plots\n",
    "from matplotlib import cm\n",
    "from matplotlib.colors import ListedColormap, LinearSegmentedColormap\n",
    "from matplotlib import colors as mcolors, path"
   ]
  },
  {
   "cell_type": "markdown",
   "metadata": {},
   "source": [
    "# Data"
   ]
  },
  {
   "cell_type": "markdown",
   "metadata": {},
   "source": [
    "Create some artificial data"
   ]
  },
  {
   "cell_type": "code",
   "execution_count": 2,
   "metadata": {},
   "outputs": [],
   "source": [
    "df = pd.DataFrame({'a':[1,2,3,4,5,6], 'b':[4,5,6,3,7,1]})"
   ]
  },
  {
   "cell_type": "markdown",
   "metadata": {},
   "source": [
    "# Basic Plots"
   ]
  },
  {
   "cell_type": "code",
   "execution_count": 3,
   "metadata": {},
   "outputs": [
    {
     "data": {
      "image/png": "[encoded data removed]",
      "text/plain": [
       "<Figure size 432x288 with 1 Axes>"
      ]
     },
     "metadata": {
      "needs_background": "light"
     },
     "output_type": "display_data"
    }
   ],
   "source": [
    "fig, ax = plt.subplots()\n",
    "ax.bar(df.a, df.b)\n",
    "plt.show()"
   ]
  },
  {
   "cell_type": "markdown",
   "metadata": {},
   "source": [
    "# Basic Gradient Plots"
   ]
  },
  {
   "cell_type": "code",
   "execution_count": 4,
   "metadata": {},
   "outputs": [
    {
     "data": {
      "image/png": "[encoded data removed]",
      "text/plain": [
       "<Figure size 432x288 with 1 Axes>"
      ]
     },
     "metadata": {
      "needs_background": "light"
     },
     "output_type": "display_data"
    }
   ],
   "source": [
    "fig, ax = plt.subplots()\n",
    "\n",
    "def gradientbars(bars):\n",
    "    #set up the gradient for the cmap\n",
    "    grad = np.atleast_2d(np.linspace(0,1,256)).T\n",
    "    ax = bars[0].axes\n",
    "    lim = ax.get_xlim()+ax.get_ylim()\n",
    "    ax.axis(lim)\n",
    "    for bar in bars:\n",
    "        bar.set_facecolor(\"none\")\n",
    "        x,y = bar.get_xy()\n",
    "        w, h = bar.get_width(), bar.get_height()\n",
    "        ax.imshow(grad, extent=[x,x+w,y,y+h], aspect=\"auto\")\n",
    "\n",
    "gradientbars(ax.bar(df.a, df.b))\n",
    "\n",
    "plt.show()"
   ]
  },
  {
   "cell_type": "code",
   "execution_count": 24,
   "metadata": {},
   "outputs": [
    {
     "data": {
      "text/plain": [
       "array([[0.        ],\n",
       "       [0.00392157],\n",
       "       [0.00784314],\n",
       "       [0.01176471],\n",
       "       [0.01568627],\n",
       "       [0.01960784],\n",
       "       [0.02352941],\n",
       "       [0.02745098],\n",
       "       [0.03137255],\n",
       "       [0.03529412]])"
      ]
     },
     "execution_count": 24,
     "metadata": {},
     "output_type": "execute_result"
    }
   ],
   "source": [
    "#show the first 10 elements of grad\n",
    "np.atleast_2d(np.linspace(0,1,256)).T[0:10]"
   ]
  },
  {
   "cell_type": "markdown",
   "metadata": {},
   "source": [
    "# Meaningful Gradient Plots"
   ]
  },
  {
   "cell_type": "markdown",
   "metadata": {},
   "source": [
    "The key is that the 'grad' variable now represents an array that doesn't always go from 0->1.  It is scaled by the height of each individual bar <br>\n",
    "We use the cm.colors.NoNorm because we want to use indices directly in a ScalarMappable (as in, USE the custom 'grad' we created) </br>\n",
    "https://matplotlib.org/stable/api/_as_gen/matplotlib.colors.NoNorm.html"
   ]
  },
  {
   "cell_type": "code",
   "execution_count": 5,
   "metadata": {},
   "outputs": [],
   "source": [
    "def gradientbars(bars,ydata,cmap):\n",
    "    ax = bars[0].axes\n",
    "    lim = ax.get_xlim()+ax.get_ylim()\n",
    "    ax.axis(lim)\n",
    "    for bar in bars:\n",
    "        bar.set_facecolor(\"none\")\n",
    "        x,y = bar.get_xy()\n",
    "        w, h = bar.get_width(), bar.get_height()\n",
    "        grad = np.atleast_2d(np.linspace(0,1*h/max(ydata),256)).T\n",
    "        ax.imshow(grad, extent=[x,x+w,y,y+h], origin='lower',aspect=\"auto\", norm=cm.colors.NoNorm(vmin=0,vmax=1),cmap=plt.get_cmap(cmap))\n",
    "    "
   ]
  },
  {
   "cell_type": "code",
   "execution_count": 6,
   "metadata": {},
   "outputs": [
    {
     "data": {
      "image/png": "[encoded data removed]",
      "text/plain": [
       "<Figure size 432x288 with 1 Axes>"
      ]
     },
     "metadata": {
      "needs_background": "light"
     },
     "output_type": "display_data"
    }
   ],
   "source": [
    "fig, ax = plt.subplots()\n",
    "my_bar = ax.bar(df.a,df.b)\n",
    "gradientbars(my_bar, df.b, 'viridis_r')\n",
    "plt.show()"
   ]
  },
  {
   "cell_type": "code",
   "execution_count": 7,
   "metadata": {},
   "outputs": [
    {
     "data": {
      "image/png": "[encoded data removed]",
      "text/plain": [
       "<Figure size 432x288 with 1 Axes>"
      ]
     },
     "metadata": {
      "needs_background": "light"
     },
     "output_type": "display_data"
    }
   ],
   "source": [
    "fig, ax = plt.subplots()\n",
    "my_bar = ax.bar(df.a,df.b)\n",
    "gradientbars(my_bar, df.b, 'hot_r')\n",
    "plt.show()"
   ]
  },
  {
   "cell_type": "code",
   "execution_count": 8,
   "metadata": {},
   "outputs": [
    {
     "data": {
      "image/png": "[encoded data removed]",
      "text/plain": [
       "<Figure size 432x288 with 1 Axes>"
      ]
     },
     "metadata": {
      "needs_background": "light"
     },
     "output_type": "display_data"
    }
   ],
   "source": [
    "fig, ax = plt.subplots()\n",
    "my_bar = ax.bar(df.a,df.b)\n",
    "gradientbars(my_bar, df.b, 'cool')\n",
    "plt.show()"
   ]
  },
  {
   "cell_type": "markdown",
   "metadata": {},
   "source": [
    "Let's pretty it up a bit"
   ]
  },
  {
   "cell_type": "code",
   "execution_count": 25,
   "metadata": {},
   "outputs": [
    {
     "data": {
      "image/png": "[encoded data removed]",
      "text/plain": [
       "<Figure size 432x288 with 1 Axes>"
      ]
     },
     "metadata": {
      "needs_background": "light"
     },
     "output_type": "display_data"
    }
   ],
   "source": [
    "def gradientbars(bars,ydata,cmap):\n",
    "    ax = bars[0].axes\n",
    "    lim = ax.get_xlim()+ax.get_ylim()\n",
    "    ax.axis(lim)\n",
    "    for bar in bars:\n",
    "        bar.set_facecolor(\"none\")\n",
    "        x,y = bar.get_xy()\n",
    "        w, h = bar.get_width(), bar.get_height()\n",
    "        grad = np.atleast_2d(np.linspace(0,1*h/max(ydata),256)).T\n",
    "        #zorder of 2 to get gradients above the facecolor, but below the bar outlines\n",
    "        ax.imshow(grad, extent=[x,x+w,y,y+h], origin='lower',aspect=\"auto\",zorder=2, norm=cm.colors.NoNorm(vmin=0,vmax=1),cmap=plt.get_cmap(cmap))\n",
    "\n",
    "fig, ax = plt.subplots()\n",
    "# zorder=0 sends gridlines to the back\n",
    "ax.grid(which='major', axis='y', linestyle='--', color='gray', zorder=0)\n",
    "# zorder=3 makes our edges show\n",
    "my_bar = ax.bar(df.a,df.b, edgecolor='gray', zorder=3)\n",
    "gradientbars(my_bar, df.b, 'YlOrRd')\n",
    "plt.show()"
   ]
  },
  {
   "cell_type": "code",
   "execution_count": 34,
   "metadata": {},
   "outputs": [
    {
     "data": {
      "image/png": "[encoded data removed]",
      "text/plain": [
       "<Figure size 432x288 with 1 Axes>"
      ]
     },
     "metadata": {
      "needs_background": "light"
     },
     "output_type": "display_data"
    }
   ],
   "source": [
    "fig, ax = plt.subplots()\n",
    "ax.grid(which='major', axis='y', linestyle='--', color='gray', zorder=0)\n",
    "my_bar = ax.bar(df.a,df.b, edgecolor='gray', zorder=3)\n",
    "gradientbars(my_bar, df.b, 'viridis_r')\n",
    "#plt.savefig('cleaned_viridis.png')\n",
    "plt.show()"
   ]
  },
  {
   "cell_type": "markdown",
   "metadata": {},
   "source": [
    "# Combinding with custom CMAPs"
   ]
  },
  {
   "cell_type": "markdown",
   "metadata": {},
   "source": [
    "See my previous article for making custom CMAPs with designated transition points"
   ]
  },
  {
   "cell_type": "code",
   "execution_count": 10,
   "metadata": {},
   "outputs": [],
   "source": [
    "def two_color_cmap(color1, color2, transition_value, transition_width, plot_min, plot_max): \n",
    "    colors=[color1, color1, color2, color2]\n",
    "    transition = (transition_value - plot_min)/(plot_max - plot_min)\n",
    "    trans_width_scaled = transition_width / (plot_max - plot_min)\n",
    "    nodes=[0.0, transition - (trans_width_scaled/2), transition + (trans_width_scaled/2), 1.0]\n",
    "    new_cmap = LinearSegmentedColormap.from_list(\"mycmap\", list(zip(nodes, colors)))\n",
    "    return(new_cmap)"
   ]
  },
  {
   "cell_type": "code",
   "execution_count": 11,
   "metadata": {},
   "outputs": [],
   "source": [
    "my_cmap=two_color_cmap('#2d1da3','#fcba05',4.5,1.5,0,7)"
   ]
  },
  {
   "cell_type": "code",
   "execution_count": 12,
   "metadata": {},
   "outputs": [
    {
     "data": {
      "image/png": "[encoded data removed]",
      "text/plain": [
       "<Figure size 432x288 with 1 Axes>"
      ]
     },
     "metadata": {
      "needs_background": "light"
     },
     "output_type": "display_data"
    }
   ],
   "source": [
    "fig, ax = plt.subplots()\n",
    "#add gridlines\n",
    "ax.grid(which='major', axis='y', linestyle='--', color='gray', zorder=0)\n",
    "#make our 2-color targeted cmap\n",
    "#my_cmap=two_color_cmap('#2d1da3','#fcba05',4.5,1.5,0,df.b.max())\n",
    "my_cmap=two_color_cmap('#424d8c','#fcba05',4.5,1.5,0,df.b.max())\n",
    "#set up a bar plot and bind\n",
    "my_bar = ax.bar(df.a,df.b, edgecolor='gray', zorder=3)\n",
    "#apply cmap to bars\n",
    "gradientbars(my_bar, df.b, my_cmap)\n",
    "plt.show()"
   ]
  },
  {
   "cell_type": "code",
   "execution_count": 13,
   "metadata": {},
   "outputs": [],
   "source": [
    "def three_color_cmap(color1, color2, color3, transition_value1, transition_width1, transition_value2, transition_width2, plot_min, plot_max):\n",
    "    colors=[color1, color1, color2, color2, color3, color3]\n",
    "    transition1 = (transition_value1 - plot_min)/(plot_max - plot_min)\n",
    "    transition2 = (transition_value2 - plot_min)/(plot_max - plot_min)\n",
    "    trans_width_scaled1 = transition_width1 / (plot_max - plot_min)\n",
    "    trans_width_scaled2 = transition_width2 / (plot_max - plot_min)\n",
    "    nodes=[0.0, transition1 - (trans_width_scaled1/2), transition1 + (trans_width_scaled1/2), transition2 - (trans_width_scaled2/2), \n",
    "           transition2 + (trans_width_scaled2/2), 1.0]\n",
    "    new_cmap = LinearSegmentedColormap.from_list(\"mycmap\", list(zip(nodes, colors)))\n",
    "    return(new_cmap)"
   ]
  },
  {
   "cell_type": "code",
   "execution_count": 14,
   "metadata": {},
   "outputs": [],
   "source": [
    "my_cmap2 = three_color_cmap('#2d1da3', '#fcba05','#fc3b05',3.5,1,4.5,1,0,7)"
   ]
  },
  {
   "cell_type": "code",
   "execution_count": 15,
   "metadata": {},
   "outputs": [
    {
     "data": {
      "image/png": "[encoded data removed]",
      "text/plain": [
       "<Figure size 432x288 with 1 Axes>"
      ]
     },
     "metadata": {
      "needs_background": "light"
     },
     "output_type": "display_data"
    }
   ],
   "source": [
    "fig, ax = plt.subplots()\n",
    "#add gridlines\n",
    "ax.grid(which='major', axis='y', linestyle='--', color='gray', zorder=0)\n",
    "#make our 3-color targeted cmap\n",
    "my_cmap2 = three_color_cmap('#3c7780', '#fcba05','#d93102',3.5,1,5.5,1,0,df.b.max())\n",
    "#set up a bar plot and bind\n",
    "my_bar = ax.bar(df.a,df.b, edgecolor='gray', zorder=3)\n",
    "#apply cmap to bars\n",
    "gradientbars(my_bar, df.b, my_cmap2)\n",
    "plt.show()"
   ]
  },
  {
   "cell_type": "code",
   "execution_count": 35,
   "metadata": {},
   "outputs": [
    {
     "data": {
      "image/png": "[encoded data removed]",
      "text/plain": [
       "<Figure size 432x288 with 1 Axes>"
      ]
     },
     "metadata": {
      "needs_background": "light"
     },
     "output_type": "display_data"
    }
   ],
   "source": [
    "fig, ax = plt.subplots()\n",
    "#add gridlines\n",
    "ax.grid(which='major', axis='y', linestyle='--', color='gray', zorder=0)\n",
    "#make our 3-color targeted cmap\n",
    "my_cmap2 = three_color_cmap(color1='#3c7780', color2='#fcba05',color3='#d93102',\n",
    "                            transition_value1=3.5, transition_width1=1, \n",
    "                            transition_value2=5.5, transition_width2=1,\n",
    "                            plot_min=0,plot_max=df.b.max())\n",
    "#set up a bar plot and bind\n",
    "my_bar = ax.bar(df.a,df.b, edgecolor='gray', zorder=3)\n",
    "#apply cmap to bars\n",
    "gradientbars(my_bar, df.b, my_cmap2)\n",
    "plt.show()"
   ]
  },
  {
   "cell_type": "code",
   "execution_count": null,
   "metadata": {},
   "outputs": [],
   "source": []
  }
 ],
 "metadata": {
  "kernelspec": {
   "display_name": "Python 3",
   "language": "python",
   "name": "python3"
  },
  "language_info": {
   "codemirror_mode": {
    "name": "ipython",
    "version": 3
   },
   "file_extension": ".py",
   "mimetype": "text/x-python",
   "name": "python",
   "nbconvert_exporter": "python",
   "pygments_lexer": "ipython3",
   "version": "3.8.5"
  }
 },
 "nbformat": 4,
 "nbformat_minor": 4
}
