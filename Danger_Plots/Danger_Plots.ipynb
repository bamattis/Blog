{
 "cells": [
  {
   "cell_type": "markdown",
   "metadata": {},
   "source": [
    "# Imports"
   ]
  },
  {
   "cell_type": "code",
   "execution_count": 1,
   "metadata": {},
   "outputs": [],
   "source": [
    "#normal imports\n",
    "import numpy as np\n",
    "import pandas as pd\n",
    "import matplotlib.pyplot as plt\n",
    "#Gradient Color Bar Plots\n",
    "from matplotlib import cm\n",
    "from matplotlib.colors import ListedColormap, LinearSegmentedColormap\n",
    "from matplotlib import colors as mcolors, path"
   ]
  },
  {
   "cell_type": "markdown",
   "metadata": {},
   "source": [
    "# References\n",
    "https://matplotlib.org/stable/tutorials/colors/colormaps.html <br>\n",
    "https://matplotlib.org/stable/tutorials/colors/colormap-manipulation.html"
   ]
  },
  {
   "cell_type": "markdown",
   "metadata": {},
   "source": [
    "# Data"
   ]
  },
  {
   "cell_type": "code",
   "execution_count": 2,
   "metadata": {},
   "outputs": [],
   "source": [
    "df = pd.DataFrame(data={'Month': [1, 2, 3, 4, 5, 6], 'Patients': [22, 53, 42, 18, 31, 28]})"
   ]
  },
  {
   "cell_type": "code",
   "execution_count": 3,
   "metadata": {},
   "outputs": [
    {
     "data": {
      "text/html": [
       "<div><div id=bac8aebe-4885-454e-b18e-b97facb913b5 style=\"display:none; background-color:#9D6CFF; color:white; width:200px; height:30px; padding-left:5px; border-radius:4px; flex-direction:row; justify-content:space-around; align-items:center;\" onmouseover=\"this.style.backgroundColor='#BA9BF8'\" onmouseout=\"this.style.backgroundColor='#9D6CFF'\" onclick=\"window.commands?.execute('create-mitosheet-from-dataframe-output');\">See Full Dataframe in Mito</div> <script> if (window.commands.hasCommand('create-mitosheet-from-dataframe-output')) document.getElementById('bac8aebe-4885-454e-b18e-b97facb913b5').style.display = 'flex' </script> <table border=\"1\" class=\"dataframe\">\n",
       "  <thead>\n",
       "    <tr style=\"text-align: right;\">\n",
       "      <th></th>\n",
       "      <th>Month</th>\n",
       "      <th>Patients</th>\n",
       "    </tr>\n",
       "  </thead>\n",
       "  <tbody>\n",
       "    <tr>\n",
       "      <th>0</th>\n",
       "      <td>1</td>\n",
       "      <td>22</td>\n",
       "    </tr>\n",
       "    <tr>\n",
       "      <th>1</th>\n",
       "      <td>2</td>\n",
       "      <td>53</td>\n",
       "    </tr>\n",
       "    <tr>\n",
       "      <th>2</th>\n",
       "      <td>3</td>\n",
       "      <td>42</td>\n",
       "    </tr>\n",
       "    <tr>\n",
       "      <th>3</th>\n",
       "      <td>4</td>\n",
       "      <td>18</td>\n",
       "    </tr>\n",
       "    <tr>\n",
       "      <th>4</th>\n",
       "      <td>5</td>\n",
       "      <td>31</td>\n",
       "    </tr>\n",
       "    <tr>\n",
       "      <th>5</th>\n",
       "      <td>6</td>\n",
       "      <td>28</td>\n",
       "    </tr>\n",
       "  </tbody>\n",
       "</table></div>"
      ],
      "text/plain": [
       "   Month  Patients\n",
       "0      1        22\n",
       "1      2        53\n",
       "2      3        42\n",
       "3      4        18\n",
       "4      5        31\n",
       "5      6        28"
      ]
     },
     "execution_count": 3,
     "metadata": {},
     "output_type": "execute_result"
    }
   ],
   "source": [
    "df"
   ]
  },
  {
   "cell_type": "code",
   "execution_count": 4,
   "metadata": {},
   "outputs": [
    {
     "data": {
      "image/png": "[encoded data removed]",
      "text/plain": [
       "<Figure size 432x288 with 1 Axes>"
      ]
     },
     "metadata": {
      "needs_background": "light"
     },
     "output_type": "display_data"
    }
   ],
   "source": [
    "#our basic plot:\n",
    "fig, ax = plt.subplots()\n",
    "ax.bar(df.Month, df.Patients)\n",
    "ax.set_ylabel('Patients')\n",
    "ax.set_xlabel('Month')\n",
    "plt.show()"
   ]
  },
  {
   "cell_type": "markdown",
   "metadata": {},
   "source": [
    "# Viewing different types of colormaps"
   ]
  },
  {
   "cell_type": "code",
   "execution_count": 8,
   "metadata": {},
   "outputs": [
    {
     "data": {
      "image/png": "[encoded data removed]",
      "text/plain": [
       "<Figure size 460.8x104.112 with 5 Axes>"
      ]
     },
     "metadata": {
      "needs_background": "light"
     },
     "output_type": "display_data"
    }
   ],
   "source": [
    "cmaps = {}\n",
    "group_list = {}\n",
    "gradient = np.linspace(0, 1, 256)\n",
    "gradient = np.vstack((gradient, gradient))\n",
    "\n",
    "def plot_color_gradients_custom(category, cmap_list, group_list):\n",
    "    # Create figure and adjust figure height to number of colormaps\n",
    "    nrows = len(cmap_list)\n",
    "    figh = 0.35 + 0.15 + (nrows + (nrows - 1) * 0.1) * 0.22\n",
    "    fig, axs = plt.subplots(nrows=nrows + 1, figsize=(6.4, figh))\n",
    "    fig.subplots_adjust(top=1 - 0.35 / figh, bottom=0.15 / figh,\n",
    "                        left=0.2, right=0.99)\n",
    "    axs[0].set_title(f'{category} colormap types', fontsize=14)\n",
    "    for ax, name, group in zip(axs, cmap_list, group_list):\n",
    "        ax.imshow(gradient, aspect='auto', cmap=plt.get_cmap(name))\n",
    "        ax.text(-0.01, 0.5, group, va='center', ha='right', fontsize=10,\n",
    "                transform=ax.transAxes)\n",
    "\n",
    "    # Turn off *all* ticks & spines, not just the ones with colormaps.\n",
    "    for ax in axs:\n",
    "        ax.set_axis_off()\n",
    "    plt.savefig('cmap_types.png')\n",
    "\n",
    "plot_color_gradients_custom('Example', ['Reds', 'PiYG', 'hsv', 'Set1'], ['Sequential','Diverging','Cyclic', 'Qualitative'])"
   ]
  },
  {
   "cell_type": "markdown",
   "metadata": {},
   "source": [
    "## Custom cmap plotter"
   ]
  },
  {
   "cell_type": "code",
   "execution_count": 9,
   "metadata": {
    "tags": []
   },
   "outputs": [],
   "source": [
    "def plot_color_gradient(cmap_name):\n",
    "    gradient = np.linspace(0, 1, 256)\n",
    "    gradient = np.vstack((gradient, gradient))\n",
    "    fig, ax = plt.subplots(figsize=(6.4,.5))\n",
    "    ax.imshow(gradient, aspect='auto', cmap=plt.get_cmap(cmap_name))"
   ]
  },
  {
   "cell_type": "code",
   "execution_count": 10,
   "metadata": {
    "tags": []
   },
   "outputs": [
    {
     "data": {
      "image/png": "[encoded data removed]",
      "text/plain": [
       "<Figure size 460.8x36 with 1 Axes>"
      ]
     },
     "metadata": {
      "needs_background": "light"
     },
     "output_type": "display_data"
    }
   ],
   "source": [
    "plot_color_gradient('Reds')"
   ]
  },
  {
   "cell_type": "code",
   "execution_count": null,
   "metadata": {},
   "outputs": [],
   "source": [
    "#grabbing only 8 samples from the full \"Reds\" cmap, and make into a cmap we can apply\n",
    "reds_mini = cm.get_cmap('Reds', 8)"
   ]
  },
  {
   "cell_type": "code",
   "execution_count": 82,
   "metadata": {},
   "outputs": [
    {
     "name": "stdout",
     "output_type": "stream",
     "text": [
      "(1.0, 0.9607843137254902, 0.9411764705882353, 1.0)\n"
     ]
    }
   ],
   "source": [
    "#print the rgba values for the first element of the reds cmap\n",
    "print(reds(0))"
   ]
  },
  {
   "cell_type": "code",
   "execution_count": 85,
   "metadata": {},
   "outputs": [
    {
     "name": "stdout",
     "output_type": "stream",
     "text": [
      "reds.colors 8\n"
     ]
    }
   ],
   "source": [
    "print('reds.colors', reds_mini.N)"
   ]
  },
  {
   "cell_type": "code",
   "execution_count": 86,
   "metadata": {},
   "outputs": [
    {
     "data": {
      "image/png": "[encoded data removed]",
      "text/plain": [
       "<Figure size 460.8x36 with 1 Axes>"
      ]
     },
     "metadata": {
      "needs_background": "light"
     },
     "output_type": "display_data"
    }
   ],
   "source": [
    "plot_color_gradient(reds_mini)"
   ]
  },
  {
   "cell_type": "code",
   "execution_count": 88,
   "metadata": {},
   "outputs": [
    {
     "name": "stdout",
     "output_type": "stream",
     "text": [
      "reds total rows: 256\n",
      "RGBA for 100th element: (0.9878200692041523, 0.5559400230680507, 0.4304498269896194, 1.0)\n"
     ]
    }
   ],
   "source": [
    "#default grabs 256 elements\n",
    "reds= cm.get_cmap('Reds')\n",
    "print('reds total rows:', reds.N)\n",
    "print('RGBA for 100th element:', reds(99))"
   ]
  },
  {
   "cell_type": "code",
   "execution_count": 89,
   "metadata": {},
   "outputs": [
    {
     "name": "stdout",
     "output_type": "stream",
     "text": [
      "viridis.colors [[0.267004 0.004874 0.329415 1.      ]\n",
      " [0.275191 0.194905 0.496005 1.      ]\n",
      " [0.212395 0.359683 0.55171  1.      ]\n",
      " [0.153364 0.497    0.557724 1.      ]\n",
      " [0.122312 0.633153 0.530398 1.      ]\n",
      " [0.288921 0.758394 0.428426 1.      ]\n",
      " [0.626579 0.854645 0.223353 1.      ]\n",
      " [0.993248 0.906157 0.143936 1.      ]]\n"
     ]
    }
   ],
   "source": [
    "viridis = cm.get_cmap('viridis', 8)\n",
    "print('viridis.colors', viridis.colors)"
   ]
  },
  {
   "cell_type": "code",
   "execution_count": 90,
   "metadata": {},
   "outputs": [
    {
     "name": "stdout",
     "output_type": "stream",
     "text": [
      "reds(range(8)) [[1.         0.96078431 0.94117647 1.        ]\n",
      " [0.99987697 0.95820069 0.93748558 1.        ]\n",
      " [0.99975394 0.95561707 0.93379469 1.        ]\n",
      " [0.99963091 0.95303345 0.93010381 1.        ]\n",
      " [0.99950788 0.95044983 0.92641292 1.        ]\n",
      " [0.99938485 0.94786621 0.92272203 1.        ]\n",
      " [0.99926182 0.94528258 0.91903114 1.        ]\n",
      " [0.99913879 0.94269896 0.91534025 1.        ]]\n"
     ]
    }
   ],
   "source": [
    "#printing the first 8 reds rgba values\n",
    "print('reds(range(8))', reds(range(8)))"
   ]
  },
  {
   "cell_type": "markdown",
   "metadata": {},
   "source": [
    "## use \"to_rgba\" to find the color codes for common named colors"
   ]
  },
  {
   "cell_type": "code",
   "execution_count": 91,
   "metadata": {},
   "outputs": [
    {
     "name": "stdout",
     "output_type": "stream",
     "text": [
      "(1.0, 0.0, 0.0, 0.8)\n"
     ]
    }
   ],
   "source": [
    "myColor = mcolors.to_rgba(\"red\", 0.8)\n",
    "print(myColor)"
   ]
  },
  {
   "cell_type": "code",
   "execution_count": 92,
   "metadata": {},
   "outputs": [
    {
     "name": "stdout",
     "output_type": "stream",
     "text": [
      "(0.0, 0.0, 1.0, 0.8)\n"
     ]
    }
   ],
   "source": [
    "myColor = mcolors.to_rgba(\"blue\", 0.8)\n",
    "print(myColor)"
   ]
  },
  {
   "cell_type": "code",
   "execution_count": 93,
   "metadata": {},
   "outputs": [
    {
     "name": "stdout",
     "output_type": "stream",
     "text": [
      "(1.0, 1.0, 1.0, 0.8)\n"
     ]
    }
   ],
   "source": [
    "myColor = mcolors.to_rgba(\"white\", 0.8)\n",
    "print(myColor)"
   ]
  },
  {
   "cell_type": "code",
   "execution_count": 24,
   "metadata": {},
   "outputs": [],
   "source": [
    "# from matplotlib - copy viridis, then make the first 25 elements pink instead\n",
    "viridis = cm.get_cmap('viridis', 256)\n",
    "newcolors = viridis(np.linspace(0, 1, 256))\n",
    "pink = np.array([248/256, 24/256, 148/256, 1])\n",
    "newcolors[:25, :] = pink\n",
    "newcmp = ListedColormap(newcolors)"
   ]
  },
  {
   "cell_type": "code",
   "execution_count": 25,
   "metadata": {},
   "outputs": [
    {
     "data": {
      "image/png": "[encoded data removed]",
      "text/plain": [
       "<Figure size 460.8x36 with 1 Axes>"
      ]
     },
     "metadata": {
      "needs_background": "light"
     },
     "output_type": "display_data"
    }
   ],
   "source": [
    "plot_color_gradient(newcmp)"
   ]
  },
  {
   "cell_type": "code",
   "execution_count": 26,
   "metadata": {},
   "outputs": [],
   "source": [
    "def cmap_maker(transition, first_color, first_alpha, second_color, second_alpha):\n",
    "    viridis = cm.get_cmap('viridis', 100)\n",
    "    newcolors = viridis(np.linspace(0, 1, 100))\n",
    "    color1 = mcolors.to_rgba(first_color, first_alpha)\n",
    "    color2 = mcolors.to_rgba(second_color, second_alpha)\n",
    "    newcolors[:transition, :] = color1\n",
    "    newcolors[transition:100, :] = color2\n",
    "    newcmp = ListedColormap(newcolors)\n",
    "    return newcmp"
   ]
  },
  {
   "cell_type": "code",
   "execution_count": 27,
   "metadata": {},
   "outputs": [
    {
     "data": {
      "image/png": "[encoded data removed]",
      "text/plain": [
       "<Figure size 460.8x36 with 1 Axes>"
      ]
     },
     "metadata": {
      "needs_background": "light"
     },
     "output_type": "display_data"
    }
   ],
   "source": [
    "plot_color_gradient(cmap_maker(80,'blue', 0.8,'red', 0.8))"
   ]
  },
  {
   "cell_type": "code",
   "execution_count": 28,
   "metadata": {},
   "outputs": [
    {
     "data": {
      "image/png": "[encoded data removed]",
      "text/plain": [
       "<Figure size 460.8x36 with 1 Axes>"
      ]
     },
     "metadata": {
      "needs_background": "light"
     },
     "output_type": "display_data"
    }
   ],
   "source": [
    "plot_color_gradient(cmap_maker(80,'#479bf3', 1,'red', 0.8))"
   ]
  },
  {
   "cell_type": "markdown",
   "metadata": {},
   "source": [
    "# Manual Blending"
   ]
  },
  {
   "cell_type": "markdown",
   "metadata": {},
   "source": [
    "*I don't recommend manual blending - this is more of a thought exercise to see if it could be done*"
   ]
  },
  {
   "cell_type": "code",
   "execution_count": 94,
   "metadata": {},
   "outputs": [],
   "source": [
    "def cmap_maker_blend(transition, first_color, first_alpha, second_color, second_alpha):\n",
    "    #fetch any colormap object\n",
    "    viridis = cm.get_cmap('viridis', 100)\n",
    "    #put into a colormap, which we can then alter\n",
    "    newcolors = viridis(np.linspace(0, 1, 100))\n",
    "    color1 = mcolors.to_rgba(first_color, first_alpha)\n",
    "    color2 = mcolors.to_rgba(second_color, second_alpha)\n",
    "    color3 = mcolors.to_rgba('green',0.8)\n",
    "    newcolors[:transition-5, :] = color1\n",
    "    newcolors[transition+5:100, :] = color2\n",
    "    for x in range(1,11):\n",
    "        factor1 = [(10-x)/10, (10-x)/10, (10-x)/10, (10-x)/10]\n",
    "        factor2 = [x/10, x/10, x/10, x/10]\n",
    "        color3 = np.add(np.multiply(color1, factor1), np.multiply(color2, factor2))\n",
    "        newcolors[transition-6+x:transition-5+x, :]=color3\n",
    "    newcmp = ListedColormap(newcolors)\n",
    "    return newcmp"
   ]
  },
  {
   "cell_type": "code",
   "execution_count": 95,
   "metadata": {},
   "outputs": [
    {
     "data": {
      "image/png": "[encoded data removed]",
      "text/plain": [
       "<Figure size 460.8x36 with 1 Axes>"
      ]
     },
     "metadata": {
      "needs_background": "light"
     },
     "output_type": "display_data"
    }
   ],
   "source": [
    "plot_color_gradient(cmap_maker_blend(80,'blue', 0.8,'red', 0.8))"
   ]
  },
  {
   "cell_type": "markdown",
   "metadata": {},
   "source": [
    "# Introducing LinearSegmentedColormap"
   ]
  },
  {
   "cell_type": "code",
   "execution_count": 96,
   "metadata": {},
   "outputs": [
    {
     "data": {
      "image/png": "[encoded data removed]",
      "text/plain": [
       "<Figure size 460.8x36 with 1 Axes>"
      ]
     },
     "metadata": {
      "needs_background": "light"
     },
     "output_type": "display_data"
    }
   ],
   "source": [
    "colors=[\"green\",\"yellow\",\"red\"]\n",
    "nodes = [0.0, 0.5, 1.0]\n",
    "my_cmap = LinearSegmentedColormap.from_list(\"mycmap\", list(zip(nodes, colors)))\n",
    "plot_color_gradient(my_cmap)"
   ]
  },
  {
   "cell_type": "markdown",
   "metadata": {},
   "source": [
    "Let's play with the \"nodes\" to tighten up the blending"
   ]
  },
  {
   "cell_type": "code",
   "execution_count": 97,
   "metadata": {},
   "outputs": [
    {
     "data": {
      "image/png": "[encoded data removed]",
      "text/plain": [
       "<Figure size 460.8x36 with 1 Axes>"
      ]
     },
     "metadata": {
      "needs_background": "light"
     },
     "output_type": "display_data"
    }
   ],
   "source": [
    "colors=[\"green\",\"green\",\"yellow\",\"yellow\",\"red\",\"red\"]\n",
    "nodes = [0.0, 0.4, 0.5, 0.6,0.7,1.0]\n",
    "my_cmap = LinearSegmentedColormap.from_list(\"mycmap\", list(zip(nodes, colors)))\n",
    "plot_color_gradient(my_cmap)"
   ]
  },
  {
   "cell_type": "markdown",
   "metadata": {},
   "source": [
    "This would be more realistic for a two-color danger plot"
   ]
  },
  {
   "cell_type": "code",
   "execution_count": 99,
   "metadata": {},
   "outputs": [
    {
     "data": {
      "image/png": "[encoded data removed]",
      "text/plain": [
       "<Figure size 460.8x36 with 1 Axes>"
      ]
     },
     "metadata": {
      "needs_background": "light"
     },
     "output_type": "display_data"
    }
   ],
   "source": [
    "colors=[\"white\",\"white\",\"red\",\"red\"]\n",
    "nodes = [0.0, 0.8, 0.9,1.0]\n",
    "cmap2 = LinearSegmentedColormap.from_list(\"mycmap\", list(zip(nodes, colors)))\n",
    "plot_color_gradient(cmap2)"
   ]
  },
  {
   "cell_type": "code",
   "execution_count": 100,
   "metadata": {},
   "outputs": [
    {
     "name": "stdout",
     "output_type": "stream",
     "text": [
      "cmap2(range(256)) [[1. 1. 1. 1.]\n",
      " [1. 1. 1. 1.]\n",
      " [1. 1. 1. 1.]\n",
      " ...\n",
      " [1. 0. 0. 1.]\n",
      " [1. 0. 0. 1.]\n",
      " [1. 0. 0. 1.]]\n"
     ]
    }
   ],
   "source": [
    "print('cmap2(range(256))', cmap2(range(256)))"
   ]
  },
  {
   "cell_type": "markdown",
   "metadata": {},
   "source": [
    "## Random useful function for lightening colors"
   ]
  },
  {
   "cell_type": "code",
   "execution_count": 42,
   "metadata": {},
   "outputs": [],
   "source": [
    "#reference this function for color tuning.  Link to stack overflow.  give credit\n",
    "# https://stackoverflow.com/questions/37765197/darken-or-lighten-a-color-in-matplotlib\n",
    "def lighten_color(color, amount=0.5):\n",
    "    \"\"\"\n",
    "    Lightens the given color by multiplying (1-luminosity) by the given amount.\n",
    "    Input can be matplotlib color string, hex string, or RGB tuple.\n",
    "\n",
    "    Examples:\n",
    "    >> lighten_color('g', 0.3)\n",
    "    >> lighten_color('#F034A3', 0.6)\n",
    "    >> lighten_color((.3,.55,.1), 0.5)\n",
    "    \"\"\"\n",
    "    import matplotlib.colors as mc\n",
    "    import colorsys\n",
    "    try:\n",
    "        c = mc.cnames[color]\n",
    "    except:\n",
    "        c = color\n",
    "    c = colorsys.rgb_to_hls(*mc.to_rgb(c))\n",
    "    return colorsys.hls_to_rgb(c[0], 1 - amount * (1 - c[1]), c[2])"
   ]
  },
  {
   "cell_type": "code",
   "execution_count": 43,
   "metadata": {},
   "outputs": [
    {
     "name": "stdout",
     "output_type": "stream",
     "text": [
      "(0.9999999999999999, 0.30000000000000016, 0.30000000000000016)\n"
     ]
    }
   ],
   "source": [
    "color2 = lighten_color('red',0.7)\n",
    "print(color2)"
   ]
  },
  {
   "cell_type": "markdown",
   "metadata": {},
   "source": [
    "Let's use this function with our previous color sets"
   ]
  },
  {
   "cell_type": "code",
   "execution_count": 102,
   "metadata": {},
   "outputs": [
    {
     "data": {
      "image/png": "[encoded data removed]",
      "text/plain": [
       "<Figure size 460.8x36 with 1 Axes>"
      ]
     },
     "metadata": {
      "needs_background": "light"
     },
     "output_type": "display_data"
    }
   ],
   "source": [
    "color2 = lighten_color('red',0.7)\n",
    "color1='#479bf3' # hex code works!!!! blue\n",
    "colors=[color1, color1, color2, color2]\n",
    "nodes = [0.0, 0.8, 0.9,1.0]\n",
    "cmap2 = LinearSegmentedColormap.from_list(\"mycmap\", list(zip(nodes, colors)))\n",
    "plot_color_gradient(cmap2)"
   ]
  },
  {
   "cell_type": "markdown",
   "metadata": {},
   "source": [
    "# MAIN FUNCTIONS"
   ]
  },
  {
   "cell_type": "code",
   "execution_count": 45,
   "metadata": {},
   "outputs": [],
   "source": [
    "def two_color_cmap(color1, color2, transition_value, transition_width, plot_min, plot_max):\n",
    "    #build the colors sequence\n",
    "    colors=[color1, color1, color2, color2]\n",
    "    #scale the transition value into a 0-1 value in our plotted range\n",
    "    transition = (transition_value - plot_min)/(plot_max - plot_min)\n",
    "    #scale the transition width\n",
    "    trans_width_scaled = transition_width / (plot_max - plot_min)\n",
    "    #build the nodes list\n",
    "    nodes=[0.0, transition - (trans_width_scaled/2), transition + (trans_width_scaled/2), 1.0]\n",
    "    new_cmap = LinearSegmentedColormap.from_list(\"mycmap\", list(zip(nodes, colors)))\n",
    "    return(new_cmap)"
   ]
  },
  {
   "cell_type": "code",
   "execution_count": 46,
   "metadata": {},
   "outputs": [
    {
     "data": {
      "image/png": "[encoded data removed]",
      "text/plain": [
       "<Figure size 460.8x36 with 1 Axes>"
      ]
     },
     "metadata": {
      "needs_background": "light"
     },
     "output_type": "display_data"
    }
   ],
   "source": [
    "plot_color_gradient(two_color_cmap(\"white\",\"red\",5,2,0,10))"
   ]
  },
  {
   "cell_type": "code",
   "execution_count": 47,
   "metadata": {},
   "outputs": [],
   "source": [
    "def three_color_cmap(color1, color2, color3, transition_value1, transition_width1, transition_value2, transition_width2, plot_min, plot_max):\n",
    "    #set the colors used at each of the points specified at \"nodes\"\n",
    "    colors=[color1, color1, color2, color2, color3, color3]\n",
    "    #scale the transition value into a 0-1 value in our plotted range\n",
    "    transition1 = (transition_value1 - plot_min)/(plot_max - plot_min)\n",
    "    transition2 = (transition_value2 - plot_min)/(plot_max - plot_min)\n",
    "    #scale the transition width\n",
    "    trans_width_scaled1 = transition_width1 / (plot_max - plot_min)\n",
    "    trans_width_scaled2 = transition_width2 / (plot_max - plot_min)\n",
    "    #build the node list\n",
    "    nodes=[0.0, transition1 - (trans_width_scaled1/2), transition1 + (trans_width_scaled1/2), transition2 - (trans_width_scaled2/2), \n",
    "           transition2 + (trans_width_scaled2/2), 1.0]\n",
    "    new_cmap = LinearSegmentedColormap.from_list(\"mycmap\", list(zip(nodes, colors)))\n",
    "    return(new_cmap)"
   ]
  },
  {
   "cell_type": "code",
   "execution_count": 48,
   "metadata": {},
   "outputs": [
    {
     "data": {
      "image/png": "[encoded data removed]",
      "text/plain": [
       "<Figure size 460.8x36 with 1 Axes>"
      ]
     },
     "metadata": {
      "needs_background": "light"
     },
     "output_type": "display_data"
    }
   ],
   "source": [
    "plot_color_gradient(three_color_cmap(\"green\", \"yellow\",\"red\",30,3,50,1,0,55.65))"
   ]
  },
  {
   "cell_type": "markdown",
   "metadata": {},
   "source": [
    "# Apply to Plots"
   ]
  },
  {
   "cell_type": "code",
   "execution_count": 49,
   "metadata": {},
   "outputs": [
    {
     "data": {
      "image/png": "[encoded data removed]",
      "text/plain": [
       "<Figure size 432x288 with 1 Axes>"
      ]
     },
     "metadata": {
      "needs_background": "light"
     },
     "output_type": "display_data"
    }
   ],
   "source": [
    "fig, ax = plt.subplots()\n",
    "ax.bar(df.Month, df.Patients, color='#074d5e', edgecolor='black', zorder=3)\n",
    "ax.set_ylabel('Patients')\n",
    "ax.set_xlabel('Month')\n",
    "ax.grid(which='major', axis='y', linestyle='--', color='black', zorder=0)\n",
    "\n",
    "plotlim = plt.xlim() + plt.ylim()  \n",
    "my_cmap= two_color_cmap(\"white\", \"#ff2626\",35,4,plt.ylim()[0],plt.ylim()[1])\n",
    "#set up the gradient\n",
    "grad = np.atleast_2d(np.linspace(1,0,256)).T\n",
    "ax.imshow(grad, cmap = my_cmap, aspect='auto', extent=plotlim)\n",
    "\n",
    "plt.show()"
   ]
  },
  {
   "cell_type": "markdown",
   "metadata": {},
   "source": []
  },
  {
   "cell_type": "code",
   "execution_count": 59,
   "metadata": {},
   "outputs": [
    {
     "data": {
      "image/png": "[encoded data removed]",
      "text/plain": [
       "<Figure size 432x288 with 1 Axes>"
      ]
     },
     "metadata": {
      "needs_background": "light"
     },
     "output_type": "display_data"
    }
   ],
   "source": []
  },
  {
   "cell_type": "code",
   "execution_count": 71,
   "metadata": {},
   "outputs": [
    {
     "data": {
      "image/png": "[encoded data removed]",
      "text/plain": [
       "<Figure size 432x288 with 1 Axes>"
      ]
     },
     "metadata": {
      "needs_background": "light"
     },
     "output_type": "display_data"
    }
   ],
   "source": [
    "fig, ax = plt.subplots()\n",
    "ax.bar(df.Month, df.Patients, color='lightgray', edgecolor='black', zorder=3)\n",
    "ax.set_ylabel('Patients')\n",
    "ax.set_xlabel('Month')\n",
    "ax.grid(which='major', axis='y', linestyle='--', color='black', zorder=0)\n",
    "plotlim = plt.xlim() + plt.ylim()  \n",
    "my_cmap= three_color_cmap(\"green\", \"yellow\",\"red\",28,4,45,4,plt.ylim()[0],plt.ylim()[1])\n",
    "grad = np.atleast_2d(np.linspace(1,0,256)).T\n",
    "ax.imshow(grad, cmap = my_cmap, aspect='auto', extent=plotlim)\n",
    "\n",
    "plt.show()"
   ]
  },
  {
   "cell_type": "code",
   "execution_count": 72,
   "metadata": {},
   "outputs": [
    {
     "data": {
      "image/png": "[encoded data removed]",
      "text/plain": [
       "<Figure size 432x288 with 1 Axes>"
      ]
     },
     "metadata": {
      "needs_background": "light"
     },
     "output_type": "display_data"
    }
   ],
   "source": [
    "fig, ax = plt.subplots()\n",
    "ax.bar(df.Month, df.Patients, color='#074d5e', edgecolor='black', zorder=3)\n",
    "ax.set_ylabel('Patients')\n",
    "ax.set_xlabel('Month')\n",
    "ax.grid(which='major', axis='y', linestyle='--', color='black', zorder=0)\n",
    "plotlim = plt.xlim() + plt.ylim()  \n",
    "my_cmap= three_color_cmap(\"white\", \"yellow\",\"red\",28,4,45,4,plt.ylim()[0],plt.ylim()[1])\n",
    "grad = np.atleast_2d(np.linspace(1,0,256)).T\n",
    "ax.imshow(grad, cmap = my_cmap, aspect='auto', extent=plotlim)\n",
    "\n",
    "plt.show()"
   ]
  },
  {
   "cell_type": "markdown",
   "metadata": {},
   "source": [
    "## Horizontal Plots"
   ]
  },
  {
   "cell_type": "code",
   "execution_count": 73,
   "metadata": {},
   "outputs": [
    {
     "data": {
      "image/png": "[encoded data removed]",
      "text/plain": [
       "<Figure size 432x288 with 1 Axes>"
      ]
     },
     "metadata": {
      "needs_background": "light"
     },
     "output_type": "display_data"
    }
   ],
   "source": [
    "fig, ax = plt.subplots()\n",
    "ax.barh(df.Month, df.Patients, color='#074d5e', edgecolor='black', zorder=3)\n",
    "#switch the labels\n",
    "ax.set_xlabel('Patients')\n",
    "ax.set_ylabel('Month')\n",
    "plotlim = plt.xlim() + plt.ylim()  \n",
    "ax.grid(which='major', axis='x', linestyle='--', color='black', zorder=0)\n",
    "# We now pass in xlim() instead\n",
    "my_cmap= three_color_cmap('white', 'yellow', 'red' ,28,4,45,4,plt.xlim()[0],plt.xlim()[1])\n",
    "# Don't use the transpose \".T\" if making horizontal plots\n",
    "grad = np.atleast_2d(np.linspace(0,1,256))\n",
    "ax.imshow(grad, cmap = my_cmap, aspect='auto', extent=plotlim)\n",
    "plt.show()"
   ]
  },
  {
   "cell_type": "markdown",
   "metadata": {},
   "source": [
    "### Understanding grad"
   ]
  },
  {
   "cell_type": "code",
   "execution_count": 74,
   "metadata": {},
   "outputs": [
    {
     "name": "stdout",
     "output_type": "stream",
     "text": [
      "[[0.        ]\n",
      " [0.00392157]\n",
      " [0.00784314]\n",
      " [0.01176471]\n",
      " [0.01568627]]\n"
     ]
    }
   ],
   "source": [
    "grad = np.atleast_2d(np.linspace(0,1,256)).T\n",
    "print(grad[0:5])"
   ]
  },
  {
   "cell_type": "code",
   "execution_count": 75,
   "metadata": {},
   "outputs": [
    {
     "name": "stdout",
     "output_type": "stream",
     "text": [
      "[0.         0.00392157 0.00784314 0.01176471 0.01568627]\n"
     ]
    }
   ],
   "source": [
    "grad = np.atleast_2d(np.linspace(0,1,256))\n",
    "print(grad[0][0:5])"
   ]
  },
  {
   "cell_type": "markdown",
   "metadata": {},
   "source": [
    "## Line Plots"
   ]
  },
  {
   "cell_type": "code",
   "execution_count": 76,
   "metadata": {},
   "outputs": [
    {
     "data": {
      "image/png": "[encoded data removed]",
      "text/plain": [
       "<Figure size 432x288 with 1 Axes>"
      ]
     },
     "metadata": {
      "needs_background": "light"
     },
     "output_type": "display_data"
    }
   ],
   "source": [
    "fig, ax = plt.subplots()\n",
    "ax.plot(df.Month, df.Patients, marker='o', color='black', linewidth=3)\n",
    "ax.set_ylabel('Patients')\n",
    "ax.set_xlabel('Month')\n",
    "ax.set_ylim(0,60)\n",
    "ax.grid(which='major', axis='y', linestyle='--', color='black')\n",
    "plotlim = plt.xlim() + plt.ylim()  \n",
    "my_cmap= three_color_cmap(\"#ff2626\", \"white\",\"#ff2626\",15,6,45,6,plt.ylim()[0],plt.ylim()[1])\n",
    "grad = np.atleast_2d(np.linspace(1,0,256)).T\n",
    "ax.imshow(grad, cmap = my_cmap, aspect='auto', extent=plotlim)\n",
    "plt.show()"
   ]
  },
  {
   "cell_type": "code",
   "execution_count": 77,
   "metadata": {},
   "outputs": [
    {
     "data": {
      "image/png": "[encoded data removed]",
      "text/plain": [
       "<Figure size 432x288 with 1 Axes>"
      ]
     },
     "metadata": {
      "needs_background": "light"
     },
     "output_type": "display_data"
    }
   ],
   "source": [
    "fig, ax = plt.subplots()\n",
    "ax.plot(df.Month, df.Patients, marker='o', color='black', linewidth=3)\n",
    "ax.set_ylabel('Patients')\n",
    "ax.set_xlabel('Month')\n",
    "ax.set_ylim(0,60)\n",
    "ax.grid(which='major', axis='y', linestyle='--', color='black')\n",
    "plotlim = plt.xlim() + plt.ylim()  \n",
    "my_cmap= three_color_cmap(\"#ff2626\", \"white\",\"#ff2626\",15,0,45,0,plt.ylim()[0],plt.ylim()[1])\n",
    "grad = np.atleast_2d(np.linspace(1,0,256)).T\n",
    "ax.imshow(grad, cmap = my_cmap, aspect='auto', extent=plotlim)\n",
    "plt.show()"
   ]
  },
  {
   "cell_type": "markdown",
   "metadata": {},
   "source": [
    "## Side-by-side comparison"
   ]
  },
  {
   "cell_type": "code",
   "execution_count": 78,
   "metadata": {},
   "outputs": [
    {
     "data": {
      "image/png": "[encoded data removed]",
      "text/plain": [
       "<Figure size 864x360 with 2 Axes>"
      ]
     },
     "metadata": {
      "needs_background": "light"
     },
     "output_type": "display_data"
    }
   ],
   "source": [
    "fig, (ax1, ax2) = plt.subplots(1,2, figsize=(12,5))\n",
    "ax1.bar(df.Month, df.Patients, color='#074d5e', edgecolor='black', zorder=3)\n",
    "ax1.set_xlabel('Month')\n",
    "ax1.grid(which='major', axis='y', linestyle='--', color='black', zorder=0)\n",
    "ax2.bar(df.Month, df.Patients, color='#074d5e', edgecolor='black', zorder=3)\n",
    "ax2.set_xlabel('Month')\n",
    "ax2.grid(which='major', axis='y', linestyle='--', color='black', zorder=0)\n",
    "plotlim = plt.xlim() + plt.ylim()  \n",
    "my_cmap= three_color_cmap(\"white\", \"yellow\",\"red\",33,4,45,4,plt.ylim()[0],plt.ylim()[1])\n",
    "grad = np.atleast_2d(np.linspace(1,0,256)).T\n",
    "ax2.imshow(grad, cmap = my_cmap, aspect='auto', extent=plotlim)\n",
    "plt.savefig('comparison.png')\n",
    "plt.show()\n"
   ]
  },
  {
   "cell_type": "code",
   "execution_count": null,
   "metadata": {},
   "outputs": [],
   "source": []
  }
 ],
 "metadata": {
  "kernelspec": {
   "display_name": "Python 3",
   "language": "python",
   "name": "python3"
  },
  "language_info": {
   "codemirror_mode": {
    "name": "ipython",
    "version": 3
   },
   "file_extension": ".py",
   "mimetype": "text/x-python",
   "name": "python",
   "nbconvert_exporter": "python",
   "pygments_lexer": "ipython3",
   "version": "3.8.5"
  },
  "toc-autonumbering": true
 },
 "nbformat": 4,
 "nbformat_minor": 4
}
