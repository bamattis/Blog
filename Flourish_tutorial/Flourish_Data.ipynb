{
 "cells": [
  {
   "cell_type": "markdown",
   "metadata": {},
   "source": [
    "# Import"
   ]
  },
  {
   "cell_type": "code",
   "execution_count": 11,
   "metadata": {},
   "outputs": [],
   "source": [
    "import pandas as pd"
   ]
  },
  {
   "cell_type": "markdown",
   "metadata": {},
   "source": [
    "# Data Load"
   ]
  },
  {
   "cell_type": "markdown",
   "metadata": {},
   "source": [
    "GDP Per Capita Data: <br>\n",
    "https://www.kaggle.com/datasets/zgrcemta/world-gdpgdp-gdp-per-capita-and-annual-growths?resource=download&select=gdp_per_capita.csv"
   ]
  },
  {
   "cell_type": "code",
   "execution_count": 57,
   "metadata": {},
   "outputs": [],
   "source": [
    "df_GDP_per_capita_import = pd.read_csv('gdp_per_capita.csv')"
   ]
  },
  {
   "cell_type": "markdown",
   "metadata": {},
   "source": [
    "GDP Data: <br>\n",
    "https://www.kaggle.com/datasets/zgrcemta/world-gdpgdp-gdp-per-capita-and-annual-growths?resource=download&select=gdp.csv"
   ]
  },
  {
   "cell_type": "code",
   "execution_count": 58,
   "metadata": {},
   "outputs": [],
   "source": [
    "df_GDP_import = pd.read_csv('gdp.csv')"
   ]
  },
  {
   "cell_type": "markdown",
   "metadata": {},
   "source": [
    "Country list and flag image urls: (borrowed from the Flourish example https://app.flourish.studio/@flourish/bar-chart-race)"
   ]
  },
  {
   "cell_type": "code",
   "execution_count": 59,
   "metadata": {},
   "outputs": [],
   "source": [
    "df_Flags = pd.read_csv('Flags_UTF8.csv')"
   ]
  },
  {
   "cell_type": "markdown",
   "metadata": {},
   "source": [
    "# Data Organization and Output"
   ]
  },
  {
   "cell_type": "code",
   "execution_count": 60,
   "metadata": {},
   "outputs": [],
   "source": [
    "#original CSV had a corrupted column.. removing that now\n",
    "df_GDP_per_capita_import.drop(columns=['Unnamed: 65'], inplace=True)\n",
    "#original CSV had a corrupted column.. removing that now\n",
    "df_GDP_import.drop(columns=['Unnamed: 65'], inplace=True)"
   ]
  },
  {
   "cell_type": "code",
   "execution_count": 61,
   "metadata": {},
   "outputs": [
    {
     "data": {
      "text/html": [
       "<div><div id=8a30535a-e773-4e99-b643-65d9f173664f style=\"display:none; background-color:#9D6CFF; color:white; width:200px; height:30px; padding-left:5px; border-radius:4px; flex-direction:row; justify-content:space-around; align-items:center;\" onmouseover=\"this.style.backgroundColor='#BA9BF8'\" onmouseout=\"this.style.backgroundColor='#9D6CFF'\" onclick=\"window.commands?.execute('create-mitosheet-from-dataframe-output');\">See Full Dataframe in Mito</div> <script> if (window.commands?.hasCommand('create-mitosheet-from-dataframe-output')) document.getElementById('8a30535a-e773-4e99-b643-65d9f173664f').style.display = 'flex' </script> <table border=\"1\" class=\"dataframe\">\n",
       "  <thead>\n",
       "    <tr style=\"text-align: right;\">\n",
       "      <th></th>\n",
       "      <th>Country Name</th>\n",
       "      <th>Code</th>\n",
       "      <th>1960</th>\n",
       "      <th>1961</th>\n",
       "      <th>1962</th>\n",
       "      <th>1963</th>\n",
       "      <th>1964</th>\n",
       "      <th>1965</th>\n",
       "      <th>1966</th>\n",
       "      <th>1967</th>\n",
       "      <th>...</th>\n",
       "      <th>2011</th>\n",
       "      <th>2012</th>\n",
       "      <th>2013</th>\n",
       "      <th>2014</th>\n",
       "      <th>2015</th>\n",
       "      <th>2016</th>\n",
       "      <th>2017</th>\n",
       "      <th>2018</th>\n",
       "      <th>2019</th>\n",
       "      <th>2020</th>\n",
       "    </tr>\n",
       "  </thead>\n",
       "  <tbody>\n",
       "    <tr>\n",
       "      <th>0</th>\n",
       "      <td>Aruba</td>\n",
       "      <td>ABW</td>\n",
       "      <td>NaN</td>\n",
       "      <td>NaN</td>\n",
       "      <td>NaN</td>\n",
       "      <td>NaN</td>\n",
       "      <td>NaN</td>\n",
       "      <td>NaN</td>\n",
       "      <td>NaN</td>\n",
       "      <td>NaN</td>\n",
       "      <td>...</td>\n",
       "      <td>24985.013919</td>\n",
       "      <td>24712.493263</td>\n",
       "      <td>26441.619936</td>\n",
       "      <td>26893.011506</td>\n",
       "      <td>28396.908423</td>\n",
       "      <td>28452.170615</td>\n",
       "      <td>29350.805019</td>\n",
       "      <td>30253.279358</td>\n",
       "      <td>NaN</td>\n",
       "      <td>NaN</td>\n",
       "    </tr>\n",
       "  </tbody>\n",
       "</table></div>"
      ],
      "text/plain": [
       "  Country Name Code  1960  1961  1962  1963  1964  1965  1966  1967  ...  \\\n",
       "0        Aruba  ABW   NaN   NaN   NaN   NaN   NaN   NaN   NaN   NaN  ...   \n",
       "\n",
       "           2011          2012          2013          2014          2015  \\\n",
       "0  24985.013919  24712.493263  26441.619936  26893.011506  28396.908423   \n",
       "\n",
       "           2016          2017          2018  2019  2020  \n",
       "0  28452.170615  29350.805019  30253.279358   NaN   NaN  \n",
       "\n",
       "[1 rows x 63 columns]"
      ]
     },
     "execution_count": 61,
     "metadata": {},
     "output_type": "execute_result"
    }
   ],
   "source": [
    "df_GDP_per_capita_import.head(1)"
   ]
  },
  {
   "cell_type": "code",
   "execution_count": 62,
   "metadata": {},
   "outputs": [
    {
     "data": {
      "text/html": [
       "<div><div id=47c622e6-bfb5-4efa-a183-78754032da4f style=\"display:none; background-color:#9D6CFF; color:white; width:200px; height:30px; padding-left:5px; border-radius:4px; flex-direction:row; justify-content:space-around; align-items:center;\" onmouseover=\"this.style.backgroundColor='#BA9BF8'\" onmouseout=\"this.style.backgroundColor='#9D6CFF'\" onclick=\"window.commands?.execute('create-mitosheet-from-dataframe-output');\">See Full Dataframe in Mito</div> <script> if (window.commands?.hasCommand('create-mitosheet-from-dataframe-output')) document.getElementById('47c622e6-bfb5-4efa-a183-78754032da4f').style.display = 'flex' </script> <table border=\"1\" class=\"dataframe\">\n",
       "  <thead>\n",
       "    <tr style=\"text-align: right;\">\n",
       "      <th></th>\n",
       "      <th>Country Name</th>\n",
       "      <th>Code</th>\n",
       "      <th>1960</th>\n",
       "      <th>1961</th>\n",
       "      <th>1962</th>\n",
       "      <th>1963</th>\n",
       "      <th>1964</th>\n",
       "      <th>1965</th>\n",
       "      <th>1966</th>\n",
       "      <th>1967</th>\n",
       "      <th>...</th>\n",
       "      <th>2011</th>\n",
       "      <th>2012</th>\n",
       "      <th>2013</th>\n",
       "      <th>2014</th>\n",
       "      <th>2015</th>\n",
       "      <th>2016</th>\n",
       "      <th>2017</th>\n",
       "      <th>2018</th>\n",
       "      <th>2019</th>\n",
       "      <th>2020</th>\n",
       "    </tr>\n",
       "  </thead>\n",
       "  <tbody>\n",
       "    <tr>\n",
       "      <th>0</th>\n",
       "      <td>Aruba</td>\n",
       "      <td>ABW</td>\n",
       "      <td>NaN</td>\n",
       "      <td>NaN</td>\n",
       "      <td>NaN</td>\n",
       "      <td>NaN</td>\n",
       "      <td>NaN</td>\n",
       "      <td>NaN</td>\n",
       "      <td>NaN</td>\n",
       "      <td>NaN</td>\n",
       "      <td>...</td>\n",
       "      <td>2.549721e+09</td>\n",
       "      <td>2.534637e+09</td>\n",
       "      <td>2.727850e+09</td>\n",
       "      <td>2.790849e+09</td>\n",
       "      <td>2.962905e+09</td>\n",
       "      <td>2.983637e+09</td>\n",
       "      <td>3.092430e+09</td>\n",
       "      <td>3.202189e+09</td>\n",
       "      <td>NaN</td>\n",
       "      <td>NaN</td>\n",
       "    </tr>\n",
       "  </tbody>\n",
       "</table></div>"
      ],
      "text/plain": [
       "  Country Name Code  1960  1961  1962  1963  1964  1965  1966  1967  ...  \\\n",
       "0        Aruba  ABW   NaN   NaN   NaN   NaN   NaN   NaN   NaN   NaN  ...   \n",
       "\n",
       "           2011          2012          2013          2014          2015  \\\n",
       "0  2.549721e+09  2.534637e+09  2.727850e+09  2.790849e+09  2.962905e+09   \n",
       "\n",
       "           2016          2017          2018  2019  2020  \n",
       "0  2.983637e+09  3.092430e+09  3.202189e+09   NaN   NaN  \n",
       "\n",
       "[1 rows x 63 columns]"
      ]
     },
     "execution_count": 62,
     "metadata": {},
     "output_type": "execute_result"
    }
   ],
   "source": [
    "df_GDP_import.head(1)"
   ]
  },
  {
   "cell_type": "code",
   "execution_count": 63,
   "metadata": {},
   "outputs": [
    {
     "data": {
      "text/html": [
       "<div><div id=a7dc05b6-6b8e-47af-b3d3-6969e2fd3f3a style=\"display:none; background-color:#9D6CFF; color:white; width:200px; height:30px; padding-left:5px; border-radius:4px; flex-direction:row; justify-content:space-around; align-items:center;\" onmouseover=\"this.style.backgroundColor='#BA9BF8'\" onmouseout=\"this.style.backgroundColor='#9D6CFF'\" onclick=\"window.commands?.execute('create-mitosheet-from-dataframe-output');\">See Full Dataframe in Mito</div> <script> if (window.commands?.hasCommand('create-mitosheet-from-dataframe-output')) document.getElementById('a7dc05b6-6b8e-47af-b3d3-6969e2fd3f3a').style.display = 'flex' </script> <table border=\"1\" class=\"dataframe\">\n",
       "  <thead>\n",
       "    <tr style=\"text-align: right;\">\n",
       "      <th></th>\n",
       "      <th>Country_Name</th>\n",
       "      <th>Region</th>\n",
       "      <th>Image_URL</th>\n",
       "    </tr>\n",
       "  </thead>\n",
       "  <tbody>\n",
       "    <tr>\n",
       "      <th>0</th>\n",
       "      <td>Afghanistan</td>\n",
       "      <td>Asia</td>\n",
       "      <td>https://public.flourish.studio/country-flags/svg/af.svg</td>\n",
       "    </tr>\n",
       "  </tbody>\n",
       "</table></div>"
      ],
      "text/plain": [
       "  Country_Name Region                                          Image_URL\n",
       "0  Afghanistan   Asia  https://public.flourish.studio/country-flags/s..."
      ]
     },
     "execution_count": 63,
     "metadata": {},
     "output_type": "execute_result"
    }
   ],
   "source": [
    "df_Flags.head(1)"
   ]
  },
  {
   "cell_type": "code",
   "execution_count": 64,
   "metadata": {},
   "outputs": [],
   "source": [
    "df_GDPperCap = df_Flags.merge(df_GDP_per_capita_import, how='left', left_on='Country_Name', right_on='Country Name')\n",
    "df_GDPperCap.drop(columns='Country Name', inplace=True)"
   ]
  },
  {
   "cell_type": "code",
   "execution_count": 65,
   "metadata": {},
   "outputs": [
    {
     "data": {
      "text/html": [
       "<div><div id=f60c87c3-56a2-44d0-8128-9ae6810e3e7f style=\"display:none; background-color:#9D6CFF; color:white; width:200px; height:30px; padding-left:5px; border-radius:4px; flex-direction:row; justify-content:space-around; align-items:center;\" onmouseover=\"this.style.backgroundColor='#BA9BF8'\" onmouseout=\"this.style.backgroundColor='#9D6CFF'\" onclick=\"window.commands?.execute('create-mitosheet-from-dataframe-output');\">See Full Dataframe in Mito</div> <script> if (window.commands?.hasCommand('create-mitosheet-from-dataframe-output')) document.getElementById('f60c87c3-56a2-44d0-8128-9ae6810e3e7f').style.display = 'flex' </script> <table border=\"1\" class=\"dataframe\">\n",
       "  <thead>\n",
       "    <tr style=\"text-align: right;\">\n",
       "      <th></th>\n",
       "      <th>Country_Name</th>\n",
       "      <th>Region</th>\n",
       "      <th>Image_URL</th>\n",
       "      <th>Code</th>\n",
       "      <th>1960</th>\n",
       "      <th>1961</th>\n",
       "      <th>1962</th>\n",
       "      <th>1963</th>\n",
       "      <th>1964</th>\n",
       "      <th>1965</th>\n",
       "      <th>...</th>\n",
       "      <th>2011</th>\n",
       "      <th>2012</th>\n",
       "      <th>2013</th>\n",
       "      <th>2014</th>\n",
       "      <th>2015</th>\n",
       "      <th>2016</th>\n",
       "      <th>2017</th>\n",
       "      <th>2018</th>\n",
       "      <th>2019</th>\n",
       "      <th>2020</th>\n",
       "    </tr>\n",
       "  </thead>\n",
       "  <tbody>\n",
       "    <tr>\n",
       "      <th>0</th>\n",
       "      <td>Afghanistan</td>\n",
       "      <td>Asia</td>\n",
       "      <td>https://public.flourish.studio/country-flags/svg/af.svg</td>\n",
       "      <td>AFG</td>\n",
       "      <td>59.773234</td>\n",
       "      <td>59.8609</td>\n",
       "      <td>58.458009</td>\n",
       "      <td>78.706429</td>\n",
       "      <td>82.095307</td>\n",
       "      <td>101.108325</td>\n",
       "      <td>...</td>\n",
       "      <td>591.190030</td>\n",
       "      <td>638.845852</td>\n",
       "      <td>624.315455</td>\n",
       "      <td>614.223342</td>\n",
       "      <td>556.007221</td>\n",
       "      <td>512.012778</td>\n",
       "      <td>516.679862</td>\n",
       "      <td>485.668419</td>\n",
       "      <td>494.179350</td>\n",
       "      <td>516.747871</td>\n",
       "    </tr>\n",
       "    <tr>\n",
       "      <th>1</th>\n",
       "      <td>Albania</td>\n",
       "      <td>Europe</td>\n",
       "      <td>https://public.flourish.studio/country-flags/svg/al.svg</td>\n",
       "      <td>ALB</td>\n",
       "      <td>NaN</td>\n",
       "      <td>NaN</td>\n",
       "      <td>NaN</td>\n",
       "      <td>NaN</td>\n",
       "      <td>NaN</td>\n",
       "      <td>NaN</td>\n",
       "      <td>...</td>\n",
       "      <td>4437.142612</td>\n",
       "      <td>4247.630047</td>\n",
       "      <td>4413.062005</td>\n",
       "      <td>4578.633208</td>\n",
       "      <td>3952.802538</td>\n",
       "      <td>4124.055390</td>\n",
       "      <td>4531.019374</td>\n",
       "      <td>5287.663694</td>\n",
       "      <td>5395.659532</td>\n",
       "      <td>5246.292306</td>\n",
       "    </tr>\n",
       "  </tbody>\n",
       "</table></div>"
      ],
      "text/plain": [
       "  Country_Name  Region                                          Image_URL  \\\n",
       "0  Afghanistan    Asia  https://public.flourish.studio/country-flags/s...   \n",
       "1      Albania  Europe  https://public.flourish.studio/country-flags/s...   \n",
       "\n",
       "  Code       1960     1961       1962       1963       1964        1965  ...  \\\n",
       "0  AFG  59.773234  59.8609  58.458009  78.706429  82.095307  101.108325  ...   \n",
       "1  ALB        NaN      NaN        NaN        NaN        NaN         NaN  ...   \n",
       "\n",
       "          2011         2012         2013         2014         2015  \\\n",
       "0   591.190030   638.845852   624.315455   614.223342   556.007221   \n",
       "1  4437.142612  4247.630047  4413.062005  4578.633208  3952.802538   \n",
       "\n",
       "          2016         2017         2018         2019         2020  \n",
       "0   512.012778   516.679862   485.668419   494.179350   516.747871  \n",
       "1  4124.055390  4531.019374  5287.663694  5395.659532  5246.292306  \n",
       "\n",
       "[2 rows x 65 columns]"
      ]
     },
     "execution_count": 65,
     "metadata": {},
     "output_type": "execute_result"
    }
   ],
   "source": [
    "df_GDPperCap.head(2)"
   ]
  },
  {
   "cell_type": "code",
   "execution_count": 66,
   "metadata": {},
   "outputs": [],
   "source": [
    "df_GDP = df_Flags.merge(df_GDP_import, how='left', left_on='Country_Name', right_on='Country Name')\n",
    "df_GDP.drop(columns='Country Name', inplace=True)"
   ]
  },
  {
   "cell_type": "code",
   "execution_count": 67,
   "metadata": {},
   "outputs": [
    {
     "data": {
      "text/html": [
       "<div><div id=4a4733ed-1c96-4265-8ec6-47f5f1f9a22a style=\"display:none; background-color:#9D6CFF; color:white; width:200px; height:30px; padding-left:5px; border-radius:4px; flex-direction:row; justify-content:space-around; align-items:center;\" onmouseover=\"this.style.backgroundColor='#BA9BF8'\" onmouseout=\"this.style.backgroundColor='#9D6CFF'\" onclick=\"window.commands?.execute('create-mitosheet-from-dataframe-output');\">See Full Dataframe in Mito</div> <script> if (window.commands?.hasCommand('create-mitosheet-from-dataframe-output')) document.getElementById('4a4733ed-1c96-4265-8ec6-47f5f1f9a22a').style.display = 'flex' </script> <table border=\"1\" class=\"dataframe\">\n",
       "  <thead>\n",
       "    <tr style=\"text-align: right;\">\n",
       "      <th></th>\n",
       "      <th>Country_Name</th>\n",
       "      <th>Region</th>\n",
       "      <th>Image_URL</th>\n",
       "      <th>Code</th>\n",
       "      <th>1960</th>\n",
       "      <th>1961</th>\n",
       "      <th>1962</th>\n",
       "      <th>1963</th>\n",
       "      <th>1964</th>\n",
       "      <th>1965</th>\n",
       "      <th>...</th>\n",
       "      <th>2011</th>\n",
       "      <th>2012</th>\n",
       "      <th>2013</th>\n",
       "      <th>2014</th>\n",
       "      <th>2015</th>\n",
       "      <th>2016</th>\n",
       "      <th>2017</th>\n",
       "      <th>2018</th>\n",
       "      <th>2019</th>\n",
       "      <th>2020</th>\n",
       "    </tr>\n",
       "  </thead>\n",
       "  <tbody>\n",
       "    <tr>\n",
       "      <th>0</th>\n",
       "      <td>Afghanistan</td>\n",
       "      <td>Asia</td>\n",
       "      <td>https://public.flourish.studio/country-flags/svg/af.svg</td>\n",
       "      <td>AFG</td>\n",
       "      <td>537777811.1</td>\n",
       "      <td>548888895.6</td>\n",
       "      <td>546666677.8</td>\n",
       "      <td>751111191.1</td>\n",
       "      <td>800000044.4</td>\n",
       "      <td>1.006667e+09</td>\n",
       "      <td>...</td>\n",
       "      <td>1.780511e+10</td>\n",
       "      <td>1.990732e+10</td>\n",
       "      <td>2.014640e+10</td>\n",
       "      <td>2.049713e+10</td>\n",
       "      <td>1.913421e+10</td>\n",
       "      <td>1.811656e+10</td>\n",
       "      <td>1.875347e+10</td>\n",
       "      <td>1.805323e+10</td>\n",
       "      <td>1.879945e+10</td>\n",
       "      <td>2.011614e+10</td>\n",
       "    </tr>\n",
       "    <tr>\n",
       "      <th>1</th>\n",
       "      <td>Albania</td>\n",
       "      <td>Europe</td>\n",
       "      <td>https://public.flourish.studio/country-flags/svg/al.svg</td>\n",
       "      <td>ALB</td>\n",
       "      <td>NaN</td>\n",
       "      <td>NaN</td>\n",
       "      <td>NaN</td>\n",
       "      <td>NaN</td>\n",
       "      <td>NaN</td>\n",
       "      <td>NaN</td>\n",
       "      <td>...</td>\n",
       "      <td>1.289076e+10</td>\n",
       "      <td>1.231983e+10</td>\n",
       "      <td>1.277622e+10</td>\n",
       "      <td>1.322815e+10</td>\n",
       "      <td>1.138685e+10</td>\n",
       "      <td>1.186120e+10</td>\n",
       "      <td>1.301969e+10</td>\n",
       "      <td>1.515643e+10</td>\n",
       "      <td>1.540024e+10</td>\n",
       "      <td>1.488763e+10</td>\n",
       "    </tr>\n",
       "  </tbody>\n",
       "</table></div>"
      ],
      "text/plain": [
       "  Country_Name  Region                                          Image_URL  \\\n",
       "0  Afghanistan    Asia  https://public.flourish.studio/country-flags/s...   \n",
       "1      Albania  Europe  https://public.flourish.studio/country-flags/s...   \n",
       "\n",
       "  Code         1960         1961         1962         1963         1964  \\\n",
       "0  AFG  537777811.1  548888895.6  546666677.8  751111191.1  800000044.4   \n",
       "1  ALB          NaN          NaN          NaN          NaN          NaN   \n",
       "\n",
       "           1965  ...          2011          2012          2013          2014  \\\n",
       "0  1.006667e+09  ...  1.780511e+10  1.990732e+10  2.014640e+10  2.049713e+10   \n",
       "1           NaN  ...  1.289076e+10  1.231983e+10  1.277622e+10  1.322815e+10   \n",
       "\n",
       "           2015          2016          2017          2018          2019  \\\n",
       "0  1.913421e+10  1.811656e+10  1.875347e+10  1.805323e+10  1.879945e+10   \n",
       "1  1.138685e+10  1.186120e+10  1.301969e+10  1.515643e+10  1.540024e+10   \n",
       "\n",
       "           2020  \n",
       "0  2.011614e+10  \n",
       "1  1.488763e+10  \n",
       "\n",
       "[2 rows x 65 columns]"
      ]
     },
     "execution_count": 67,
     "metadata": {},
     "output_type": "execute_result"
    }
   ],
   "source": [
    "df_GDP.head(2)"
   ]
  },
  {
   "cell_type": "markdown",
   "metadata": {},
   "source": [
    "## Scale the data \n",
    "Scale GDP by 1,000,000,000 (1B) <br>\n",
    "Scale GDP_per_capita by 1000 (1k)"
   ]
  },
  {
   "cell_type": "code",
   "execution_count": 68,
   "metadata": {},
   "outputs": [
    {
     "data": {
      "text/plain": [
       "(215, 65)"
      ]
     },
     "execution_count": 68,
     "metadata": {},
     "output_type": "execute_result"
    }
   ],
   "source": [
    "df_GDPperCap.shape"
   ]
  },
  {
   "cell_type": "markdown",
   "metadata": {},
   "source": [
    "From the df above, we see the values start in column index 4.  We apply to the remainder (66) and +1 since iloc is not inclusive"
   ]
  },
  {
   "cell_type": "code",
   "execution_count": 69,
   "metadata": {},
   "outputs": [],
   "source": [
    "df_GDPperCap.iloc[:,4:67] = df_GDPperCap.iloc[:,4:67]/1000"
   ]
  },
  {
   "cell_type": "code",
   "execution_count": 70,
   "metadata": {},
   "outputs": [
    {
     "data": {
      "text/plain": [
       "(215, 65)"
      ]
     },
     "execution_count": 70,
     "metadata": {},
     "output_type": "execute_result"
    }
   ],
   "source": [
    "df_GDP.shape"
   ]
  },
  {
   "cell_type": "code",
   "execution_count": 71,
   "metadata": {},
   "outputs": [],
   "source": [
    "df_GDP.iloc[:,4:67] = df_GDP.iloc[:,4:67]/1000000000"
   ]
  },
  {
   "cell_type": "markdown",
   "metadata": {},
   "source": [
    "# Export"
   ]
  },
  {
   "cell_type": "code",
   "execution_count": 72,
   "metadata": {},
   "outputs": [],
   "source": [
    "df_GDPperCap.to_csv('Export_Data/df_GDPperCap.csv', index=False)"
   ]
  },
  {
   "cell_type": "code",
   "execution_count": 74,
   "metadata": {},
   "outputs": [],
   "source": [
    "df_GDP.to_csv('Export_Data/df_GDP.csv', index=False)"
   ]
  },
  {
   "cell_type": "markdown",
   "metadata": {},
   "source": [
    "# Pie Chart Data Setup"
   ]
  },
  {
   "cell_type": "code",
   "execution_count": 75,
   "metadata": {},
   "outputs": [],
   "source": [
    "df_GDP_pie = df_GDP.groupby('Region', as_index=False).sum()"
   ]
  },
  {
   "cell_type": "code",
   "execution_count": 76,
   "metadata": {},
   "outputs": [
    {
     "data": {
      "text/html": [
       "<div><div id=514fa191-3015-4699-9794-06f4f7a03ce0 style=\"display:none; background-color:#9D6CFF; color:white; width:200px; height:30px; padding-left:5px; border-radius:4px; flex-direction:row; justify-content:space-around; align-items:center;\" onmouseover=\"this.style.backgroundColor='#BA9BF8'\" onmouseout=\"this.style.backgroundColor='#9D6CFF'\" onclick=\"window.commands?.execute('create-mitosheet-from-dataframe-output');\">See Full Dataframe in Mito</div> <script> if (window.commands?.hasCommand('create-mitosheet-from-dataframe-output')) document.getElementById('514fa191-3015-4699-9794-06f4f7a03ce0').style.display = 'flex' </script> <table border=\"1\" class=\"dataframe\">\n",
       "  <thead>\n",
       "    <tr style=\"text-align: right;\">\n",
       "      <th></th>\n",
       "      <th>Region</th>\n",
       "      <th>1960</th>\n",
       "      <th>1961</th>\n",
       "      <th>1962</th>\n",
       "      <th>1963</th>\n",
       "      <th>1964</th>\n",
       "      <th>1965</th>\n",
       "      <th>1966</th>\n",
       "      <th>1967</th>\n",
       "      <th>1968</th>\n",
       "      <th>...</th>\n",
       "      <th>2011</th>\n",
       "      <th>2012</th>\n",
       "      <th>2013</th>\n",
       "      <th>2014</th>\n",
       "      <th>2015</th>\n",
       "      <th>2016</th>\n",
       "      <th>2017</th>\n",
       "      <th>2018</th>\n",
       "      <th>2019</th>\n",
       "      <th>2020</th>\n",
       "    </tr>\n",
       "  </thead>\n",
       "  <tbody>\n",
       "    <tr>\n",
       "      <th>0</th>\n",
       "      <td>Africa</td>\n",
       "      <td>31.152387</td>\n",
       "      <td>32.041969</td>\n",
       "      <td>34.273269</td>\n",
       "      <td>39.607071</td>\n",
       "      <td>39.154839</td>\n",
       "      <td>49.277176</td>\n",
       "      <td>52.474627</td>\n",
       "      <td>53.164579</td>\n",
       "      <td>57.101007</td>\n",
       "      <td>...</td>\n",
       "      <td>2231.300807</td>\n",
       "      <td>2387.882641</td>\n",
       "      <td>2503.345339</td>\n",
       "      <td>2570.344318</td>\n",
       "      <td>2349.855224</td>\n",
       "      <td>2226.488676</td>\n",
       "      <td>2261.143110</td>\n",
       "      <td>2389.490234</td>\n",
       "      <td>2489.149451</td>\n",
       "      <td>2393.310224</td>\n",
       "    </tr>\n",
       "    <tr>\n",
       "      <th>1</th>\n",
       "      <td>Americas</td>\n",
       "      <td>626.077122</td>\n",
       "      <td>667.133113</td>\n",
       "      <td>740.690036</td>\n",
       "      <td>778.822224</td>\n",
       "      <td>840.713563</td>\n",
       "      <td>912.985414</td>\n",
       "      <td>1002.456864</td>\n",
       "      <td>1056.325700</td>\n",
       "      <td>1152.728380</td>\n",
       "      <td>...</td>\n",
       "      <td>23429.820931</td>\n",
       "      <td>24182.688266</td>\n",
       "      <td>24941.704205</td>\n",
       "      <td>25766.992666</td>\n",
       "      <td>24917.955201</td>\n",
       "      <td>25280.734335</td>\n",
       "      <td>26753.795714</td>\n",
       "      <td>27778.444185</td>\n",
       "      <td>28539.343272</td>\n",
       "      <td>27097.617906</td>\n",
       "    </tr>\n",
       "    <tr>\n",
       "      <th>2</th>\n",
       "      <td>Asia</td>\n",
       "      <td>191.998009</td>\n",
       "      <td>189.659091</td>\n",
       "      <td>198.021712</td>\n",
       "      <td>222.307105</td>\n",
       "      <td>255.112427</td>\n",
       "      <td>283.913646</td>\n",
       "      <td>299.073138</td>\n",
       "      <td>330.182313</td>\n",
       "      <td>369.948257</td>\n",
       "      <td>...</td>\n",
       "      <td>23472.432480</td>\n",
       "      <td>24930.353566</td>\n",
       "      <td>25214.774785</td>\n",
       "      <td>26162.447612</td>\n",
       "      <td>25856.810061</td>\n",
       "      <td>26934.083605</td>\n",
       "      <td>28878.474094</td>\n",
       "      <td>30984.240049</td>\n",
       "      <td>31711.641387</td>\n",
       "      <td>31188.803919</td>\n",
       "    </tr>\n",
       "    <tr>\n",
       "      <th>3</th>\n",
       "      <td>Europe</td>\n",
       "      <td>191.363825</td>\n",
       "      <td>210.248914</td>\n",
       "      <td>232.919988</td>\n",
       "      <td>260.098019</td>\n",
       "      <td>289.304732</td>\n",
       "      <td>316.196108</td>\n",
       "      <td>356.545245</td>\n",
       "      <td>387.326224</td>\n",
       "      <td>414.599826</td>\n",
       "      <td>...</td>\n",
       "      <td>17300.939311</td>\n",
       "      <td>16187.283531</td>\n",
       "      <td>16910.534497</td>\n",
       "      <td>17196.258042</td>\n",
       "      <td>14885.772418</td>\n",
       "      <td>15199.090118</td>\n",
       "      <td>16123.416417</td>\n",
       "      <td>17468.127658</td>\n",
       "      <td>17177.370075</td>\n",
       "      <td>16730.906906</td>\n",
       "    </tr>\n",
       "    <tr>\n",
       "      <th>4</th>\n",
       "      <td>Oceania</td>\n",
       "      <td>24.435466</td>\n",
       "      <td>25.714939</td>\n",
       "      <td>26.384310</td>\n",
       "      <td>28.584286</td>\n",
       "      <td>31.520587</td>\n",
       "      <td>32.458990</td>\n",
       "      <td>34.095066</td>\n",
       "      <td>37.436594</td>\n",
       "      <td>39.052882</td>\n",
       "      <td>...</td>\n",
       "      <td>1608.533540</td>\n",
       "      <td>1768.509616</td>\n",
       "      <td>1813.966952</td>\n",
       "      <td>1718.969953</td>\n",
       "      <td>1575.457079</td>\n",
       "      <td>1442.374993</td>\n",
       "      <td>1584.144321</td>\n",
       "      <td>1693.369639</td>\n",
       "      <td>1657.865816</td>\n",
       "      <td>1579.293388</td>\n",
       "    </tr>\n",
       "  </tbody>\n",
       "</table></div>"
      ],
      "text/plain": [
       "     Region        1960        1961        1962        1963        1964  \\\n",
       "0    Africa   31.152387   32.041969   34.273269   39.607071   39.154839   \n",
       "1  Americas  626.077122  667.133113  740.690036  778.822224  840.713563   \n",
       "2      Asia  191.998009  189.659091  198.021712  222.307105  255.112427   \n",
       "3    Europe  191.363825  210.248914  232.919988  260.098019  289.304732   \n",
       "4   Oceania   24.435466   25.714939   26.384310   28.584286   31.520587   \n",
       "\n",
       "         1965         1966         1967         1968  ...          2011  \\\n",
       "0   49.277176    52.474627    53.164579    57.101007  ...   2231.300807   \n",
       "1  912.985414  1002.456864  1056.325700  1152.728380  ...  23429.820931   \n",
       "2  283.913646   299.073138   330.182313   369.948257  ...  23472.432480   \n",
       "3  316.196108   356.545245   387.326224   414.599826  ...  17300.939311   \n",
       "4   32.458990    34.095066    37.436594    39.052882  ...   1608.533540   \n",
       "\n",
       "           2012          2013          2014          2015          2016  \\\n",
       "0   2387.882641   2503.345339   2570.344318   2349.855224   2226.488676   \n",
       "1  24182.688266  24941.704205  25766.992666  24917.955201  25280.734335   \n",
       "2  24930.353566  25214.774785  26162.447612  25856.810061  26934.083605   \n",
       "3  16187.283531  16910.534497  17196.258042  14885.772418  15199.090118   \n",
       "4   1768.509616   1813.966952   1718.969953   1575.457079   1442.374993   \n",
       "\n",
       "           2017          2018          2019          2020  \n",
       "0   2261.143110   2389.490234   2489.149451   2393.310224  \n",
       "1  26753.795714  27778.444185  28539.343272  27097.617906  \n",
       "2  28878.474094  30984.240049  31711.641387  31188.803919  \n",
       "3  16123.416417  17468.127658  17177.370075  16730.906906  \n",
       "4   1584.144321   1693.369639   1657.865816   1579.293388  \n",
       "\n",
       "[5 rows x 62 columns]"
      ]
     },
     "execution_count": 76,
     "metadata": {},
     "output_type": "execute_result"
    }
   ],
   "source": [
    "df_GDP_pie.head()"
   ]
  },
  {
   "cell_type": "code",
   "execution_count": 77,
   "metadata": {},
   "outputs": [],
   "source": [
    "df_pie_stacked = pd.melt(df_GDP_pie, id_vars=['Region'])"
   ]
  },
  {
   "cell_type": "code",
   "execution_count": 80,
   "metadata": {},
   "outputs": [
    {
     "data": {
      "text/html": [
       "<div><div id=dcb33a28-c008-4d10-97ad-39520630bbec style=\"display:none; background-color:#9D6CFF; color:white; width:200px; height:30px; padding-left:5px; border-radius:4px; flex-direction:row; justify-content:space-around; align-items:center;\" onmouseover=\"this.style.backgroundColor='#BA9BF8'\" onmouseout=\"this.style.backgroundColor='#9D6CFF'\" onclick=\"window.commands?.execute('create-mitosheet-from-dataframe-output');\">See Full Dataframe in Mito</div> <script> if (window.commands?.hasCommand('create-mitosheet-from-dataframe-output')) document.getElementById('dcb33a28-c008-4d10-97ad-39520630bbec').style.display = 'flex' </script> <table border=\"1\" class=\"dataframe\">\n",
       "  <thead>\n",
       "    <tr style=\"text-align: right;\">\n",
       "      <th></th>\n",
       "      <th>Region</th>\n",
       "      <th>variable</th>\n",
       "      <th>value</th>\n",
       "    </tr>\n",
       "  </thead>\n",
       "  <tbody>\n",
       "    <tr>\n",
       "      <th>0</th>\n",
       "      <td>Africa</td>\n",
       "      <td>1960</td>\n",
       "      <td>31.152387</td>\n",
       "    </tr>\n",
       "    <tr>\n",
       "      <th>1</th>\n",
       "      <td>Americas</td>\n",
       "      <td>1960</td>\n",
       "      <td>626.077122</td>\n",
       "    </tr>\n",
       "    <tr>\n",
       "      <th>2</th>\n",
       "      <td>Asia</td>\n",
       "      <td>1960</td>\n",
       "      <td>191.998009</td>\n",
       "    </tr>\n",
       "    <tr>\n",
       "      <th>3</th>\n",
       "      <td>Europe</td>\n",
       "      <td>1960</td>\n",
       "      <td>191.363825</td>\n",
       "    </tr>\n",
       "    <tr>\n",
       "      <th>4</th>\n",
       "      <td>Oceania</td>\n",
       "      <td>1960</td>\n",
       "      <td>24.435466</td>\n",
       "    </tr>\n",
       "  </tbody>\n",
       "</table></div>"
      ],
      "text/plain": [
       "     Region variable       value\n",
       "0    Africa     1960   31.152387\n",
       "1  Americas     1960  626.077122\n",
       "2      Asia     1960  191.998009\n",
       "3    Europe     1960  191.363825\n",
       "4   Oceania     1960   24.435466"
      ]
     },
     "execution_count": 80,
     "metadata": {},
     "output_type": "execute_result"
    }
   ],
   "source": [
    "df_pie_stacked.head(5)"
   ]
  },
  {
   "cell_type": "code",
   "execution_count": 79,
   "metadata": {},
   "outputs": [],
   "source": [
    "df_pie_stacked.to_csv('Export_Data/df_GDP_Pie.csv', index=False)"
   ]
  },
  {
   "cell_type": "markdown",
   "metadata": {},
   "source": [
    "One problem that we have is that Africa and Oceania are next to eachother on the pie chart <br>\n",
    "and they're both so small that the labels overlap.  We can do a custom sort on the data to do <br>\n",
    "something other than 'alphabetical'"
   ]
  },
  {
   "cell_type": "code",
   "execution_count": 81,
   "metadata": {},
   "outputs": [],
   "source": [
    "sorter = ['Africa', 'Americas', 'Europe', 'Oceania', 'Asia']"
   ]
  },
  {
   "cell_type": "code",
   "execution_count": 82,
   "metadata": {},
   "outputs": [],
   "source": [
    "df_pie_stacked.Region = df_pie_stacked.Region.astype(\"category\")"
   ]
  },
  {
   "cell_type": "code",
   "execution_count": 84,
   "metadata": {},
   "outputs": [],
   "source": [
    "df_pie_stacked.Region = df_pie_stacked.Region.cat.set_categories(sorter)"
   ]
  },
  {
   "cell_type": "code",
   "execution_count": 85,
   "metadata": {},
   "outputs": [
    {
     "name": "stdout",
     "output_type": "stream",
     "text": [
      "0        Africa\n",
      "1      Americas\n",
      "2          Asia\n",
      "3        Europe\n",
      "4       Oceania\n",
      "         ...   \n",
      "300      Africa\n",
      "301    Americas\n",
      "302        Asia\n",
      "303      Europe\n",
      "304     Oceania\n",
      "Name: Region, Length: 305, dtype: category\n",
      "Categories (5, object): ['Africa', 'Americas', 'Europe', 'Oceania', 'Asia']\n"
     ]
    }
   ],
   "source": [
    "print(df_pie_stacked.Region)"
   ]
  },
  {
   "cell_type": "code",
   "execution_count": 86,
   "metadata": {},
   "outputs": [],
   "source": [
    "df_pie_stacked.sort_values(['variable','Region'], inplace=True)"
   ]
  },
  {
   "cell_type": "code",
   "execution_count": 88,
   "metadata": {},
   "outputs": [
    {
     "data": {
      "text/html": [
       "<div><div id=8465b819-edcf-4bb2-b9c1-8a276e3bcccc style=\"display:none; background-color:#9D6CFF; color:white; width:200px; height:30px; padding-left:5px; border-radius:4px; flex-direction:row; justify-content:space-around; align-items:center;\" onmouseover=\"this.style.backgroundColor='#BA9BF8'\" onmouseout=\"this.style.backgroundColor='#9D6CFF'\" onclick=\"window.commands?.execute('create-mitosheet-from-dataframe-output');\">See Full Dataframe in Mito</div> <script> if (window.commands?.hasCommand('create-mitosheet-from-dataframe-output')) document.getElementById('8465b819-edcf-4bb2-b9c1-8a276e3bcccc').style.display = 'flex' </script> <table border=\"1\" class=\"dataframe\">\n",
       "  <thead>\n",
       "    <tr style=\"text-align: right;\">\n",
       "      <th></th>\n",
       "      <th>Region</th>\n",
       "      <th>variable</th>\n",
       "      <th>value</th>\n",
       "    </tr>\n",
       "  </thead>\n",
       "  <tbody>\n",
       "    <tr>\n",
       "      <th>0</th>\n",
       "      <td>Africa</td>\n",
       "      <td>1960</td>\n",
       "      <td>31.152387</td>\n",
       "    </tr>\n",
       "    <tr>\n",
       "      <th>1</th>\n",
       "      <td>Americas</td>\n",
       "      <td>1960</td>\n",
       "      <td>626.077122</td>\n",
       "    </tr>\n",
       "    <tr>\n",
       "      <th>3</th>\n",
       "      <td>Europe</td>\n",
       "      <td>1960</td>\n",
       "      <td>191.363825</td>\n",
       "    </tr>\n",
       "    <tr>\n",
       "      <th>4</th>\n",
       "      <td>Oceania</td>\n",
       "      <td>1960</td>\n",
       "      <td>24.435466</td>\n",
       "    </tr>\n",
       "    <tr>\n",
       "      <th>2</th>\n",
       "      <td>Asia</td>\n",
       "      <td>1960</td>\n",
       "      <td>191.998009</td>\n",
       "    </tr>\n",
       "    <tr>\n",
       "      <th>5</th>\n",
       "      <td>Africa</td>\n",
       "      <td>1961</td>\n",
       "      <td>32.041969</td>\n",
       "    </tr>\n",
       "  </tbody>\n",
       "</table></div>"
      ],
      "text/plain": [
       "     Region variable       value\n",
       "0    Africa     1960   31.152387\n",
       "1  Americas     1960  626.077122\n",
       "3    Europe     1960  191.363825\n",
       "4   Oceania     1960   24.435466\n",
       "2      Asia     1960  191.998009\n",
       "5    Africa     1961   32.041969"
      ]
     },
     "execution_count": 88,
     "metadata": {},
     "output_type": "execute_result"
    }
   ],
   "source": [
    "df_pie_stacked.head(6)"
   ]
  },
  {
   "cell_type": "code",
   "execution_count": 89,
   "metadata": {},
   "outputs": [],
   "source": [
    "df_pie_stacked.to_csv('Export_Data/df_GDP_Pie_reorder.csv', index=False)"
   ]
  },
  {
   "cell_type": "code",
   "execution_count": null,
   "metadata": {},
   "outputs": [],
   "source": []
  }
 ],
 "metadata": {
  "kernelspec": {
   "display_name": "Python 3",
   "language": "python",
   "name": "python3"
  },
  "language_info": {
   "codemirror_mode": {
    "name": "ipython",
    "version": 3
   },
   "file_extension": ".py",
   "mimetype": "text/x-python",
   "name": "python",
   "nbconvert_exporter": "python",
   "pygments_lexer": "ipython3",
   "version": "3.8.5"
  }
 },
 "nbformat": 4,
 "nbformat_minor": 4
}
