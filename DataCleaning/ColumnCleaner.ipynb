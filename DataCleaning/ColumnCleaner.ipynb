{
 "cells": [
  {
   "cell_type": "markdown",
   "metadata": {},
   "source": [
    "# Bad-data cleaning functions:"
   ]
  },
  {
   "cell_type": "markdown",
   "metadata": {},
   "source": [
    "Written by Brian Mattis 4/5/2022.  https://medium.com/@brian-mattis"
   ]
  },
  {
   "cell_type": "markdown",
   "metadata": {},
   "source": [
    "*Import into your notebook after saving locally with:* \\\n",
    "**%run ColumnCleaner.ipynb**"
   ]
  },
  {
   "cell_type": "code",
   "execution_count": 6,
   "metadata": {},
   "outputs": [],
   "source": [
    "import numpy as np\n",
    "import pandas as pd"
   ]
  },
  {
   "cell_type": "markdown",
   "metadata": {},
   "source": [
    "**char_finder()** - Find characters or booleans in a would-be numeric column. "
   ]
  },
  {
   "cell_type": "code",
   "execution_count": 7,
   "metadata": {},
   "outputs": [],
   "source": [
    "#functionalized.  usage: char_finder(df, 'num_col')\n",
    "def char_finder(data_frame, series_name):\n",
    "    cnt=0\n",
    "    print(series_name)\n",
    "    for row in data_frame[series_name]:\n",
    "        try:\n",
    "            float(row) #changed to float to not flag NaNs or decimals.  \n",
    "            pass\n",
    "        except ValueError:\n",
    "            print(data_frame.loc[cnt, series_name], \"-> at row:\"+str(cnt))\n",
    "        cnt+=1"
   ]
  },
  {
   "cell_type": "markdown",
   "metadata": {},
   "source": [
    "**char_fixer()** - Remove characters or booleans from a would-be numeric column (NaNs maintained)"
   ]
  },
  {
   "cell_type": "code",
   "execution_count": 8,
   "metadata": {},
   "outputs": [],
   "source": [
    "#functionalized.  usage: char_fixer(df, 'num_col')\n",
    "def char_fixer(data_frame, series_name):\n",
    "    cnt=0\n",
    "    for row in data_frame[series_name]:\n",
    "        try:\n",
    "            float(row) #changed to float to not flag NaNs or decimals.  \n",
    "            pass\n",
    "        except ValueError:\n",
    "            data_frame.drop([cnt], inplace=True) #or assign to some other desired value\n",
    "        cnt+=1\n",
    "    data_frame[series_name] = data_frame[series_name].astype('float64', errors='raise')\n",
    "    data_frame.reset_index(drop=True, inplace=True)"
   ]
  },
  {
   "cell_type": "markdown",
   "metadata": {},
   "source": [
    "**char_fixer_nan()** - Remove characters or booleans from a would-be numeric column (all bad set to NaN)"
   ]
  },
  {
   "cell_type": "code",
   "execution_count": null,
   "metadata": {},
   "outputs": [],
   "source": [
    "#functionalized.  usage: char_fixer_nan(df, 'num_col')\n",
    "def char_fixer_nan(data_frame, series_name):\n",
    "    cnt=0\n",
    "    for row in data_frame[series_name]:\n",
    "        try:\n",
    "            float(row) #changed to float to not flag NaNs or decimals.  \n",
    "            pass\n",
    "        except ValueError:\n",
    "            data_frame.loc[cnt, series_name] = np.nan\n",
    "        cnt+=1\n",
    "    data_frame[series_name] = data_frame[series_name].astype('float64', errors='raise')"
   ]
  },
  {
   "cell_type": "markdown",
   "metadata": {},
   "source": [
    "**num_finder()** - Find numbers or booleans in would-be string (character) columns"
   ]
  },
  {
   "cell_type": "code",
   "execution_count": 9,
   "metadata": {},
   "outputs": [],
   "source": [
    "#functionalized.  usage: num_finder(df, 'name_col')\n",
    "def num_finder(data_frame, series_name):\n",
    "    cnt=0\n",
    "    for row in data_frame[series_name]:\n",
    "        try:\n",
    "            int(float(row)) # if no error, report found numeric in bottom 'else:'\n",
    "        except ValueError:\n",
    "            if row=='True' or row=='False':\n",
    "                # report the True or False entries\n",
    "                print(data_frame.loc[cnt, series_name], \"-> at row:\"+str(cnt))\n",
    "            else: #Chars or NaNs\n",
    "                pass\n",
    "        else:\n",
    "            print(data_frame.loc[cnt, series_name], \"-> at row:\"+str(cnt))\n",
    "        cnt+=1"
   ]
  },
  {
   "cell_type": "markdown",
   "metadata": {},
   "source": [
    "**num_fixer()** - Remove numbers or booleans in would-be string (character) columns (NaNs maintained)"
   ]
  },
  {
   "cell_type": "code",
   "execution_count": 1,
   "metadata": {},
   "outputs": [],
   "source": [
    "#functionalized.  usage: num_fixer(df, 'name_col')\n",
    "def num_fixer(data_frame, series_name):\n",
    "    cnt=0\n",
    "    for row in data_frame[series_name]:\n",
    "        try:\n",
    "            int(float(row)) # if no error, drop it in the bottom else:'\n",
    "        except ValueError:\n",
    "            if row=='True' or row=='False': #drop if would-be boolean\n",
    "                data_frame.drop([cnt], inplace=True) \n",
    "            elif row=='nan': #turn the string 'nan' into NaN\n",
    "                data_frame.loc[cnt, series_name] = np.nan\n",
    "            else: #Chars or NaNs\n",
    "                pass\n",
    "        else:\n",
    "            data_frame.drop([cnt], inplace=True) \n",
    "        cnt+=1\n",
    "    data_frame[series_name] = data_frame[series_name].astype('string', errors='raise')\n",
    "    data_frame.reset_index(drop=True, inplace=True)  "
   ]
  },
  {
   "cell_type": "markdown",
   "metadata": {},
   "source": [
    "**num_fixer()** - Remove numbers or booleans in would-be string (character) columns (all bad set to NaN)"
   ]
  },
  {
   "cell_type": "code",
   "execution_count": null,
   "metadata": {},
   "outputs": [],
   "source": [
    "#functionalized.  usage: num_fixer_nan(df, 'name_col')\n",
    "def num_fixer_nan(data_frame, series_name):\n",
    "    cnt=0\n",
    "    for row in data_frame[series_name]:\n",
    "        try:\n",
    "            int(float(row)) # if no error, drop it in the bottom else:'\n",
    "        except ValueError:\n",
    "            if row=='True' or row=='False': #drop if would-be boolean\n",
    "                data_frame.loc[cnt, series_name] = np.nan\n",
    "            elif row=='nan': #turn the string 'nan' into NaN\n",
    "                data_frame.loc[cnt, series_name] = np.nan\n",
    "            else: #Chars or NaNs\n",
    "                pass\n",
    "        else:\n",
    "            data_frame.loc[cnt, series_name] = np.nan\n",
    "        cnt+=1\n",
    "    data_frame[series_name] = data_frame[series_name].astype('string', errors='raise')\n",
    "    data_frame.reset_index(drop=True, inplace=True)"
   ]
  }
 ],
 "metadata": {
  "kernelspec": {
   "display_name": "Python 3",
   "language": "python",
   "name": "python3"
  },
  "language_info": {
   "codemirror_mode": {
    "name": "ipython",
    "version": 3
   },
   "file_extension": ".py",
   "mimetype": "text/x-python",
   "name": "python",
   "nbconvert_exporter": "python",
   "pygments_lexer": "ipython3",
   "version": "3.8.5"
  }
 },
 "nbformat": 4,
 "nbformat_minor": 4
}
