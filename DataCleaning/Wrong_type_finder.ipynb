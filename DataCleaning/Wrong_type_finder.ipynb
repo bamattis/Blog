{
 "cells": [
  {
   "cell_type": "markdown",
   "metadata": {},
   "source": [
    "# GOAL: find and remove data of the wrong type in our data frames"
   ]
  },
  {
   "cell_type": "markdown",
   "metadata": {},
   "source": [
    "Written by Brian Mattis 4/5/2022. https://medium.com/@brian-mattis"
   ]
  },
  {
   "cell_type": "markdown",
   "metadata": {},
   "source": [
    "char in numeric columns, numbers in char columns"
   ]
  },
  {
   "cell_type": "code",
   "execution_count": 3,
   "metadata": {},
   "outputs": [],
   "source": [
    "import numpy as np\n",
    "import pandas as pd\n",
    "import random"
   ]
  },
  {
   "cell_type": "markdown",
   "metadata": {},
   "source": [
    "## Data Creation"
   ]
  },
  {
   "cell_type": "code",
   "execution_count": 55,
   "metadata": {},
   "outputs": [],
   "source": [
    "df = pd.DataFrame({'num_col'  : np.tile([3, 5.46, 62.1, np.nan, False, 'angie'], 7),\n",
    "                   'name_col' : np.tile(['bob', 'sue', 'steve', 24.5, 'kim', True, np.nan], 6)})"
   ]
  },
  {
   "cell_type": "code",
   "execution_count": 5,
   "metadata": {},
   "outputs": [
    {
     "data": {
      "text/html": [
       "<div><div id=85b9a73b-ee93-4ffe-ae6e-f73003f3eb49 style=\"display:none; background-color:#9D6CFF; color:white; width:200px; height:30px; padding-left:5px; border-radius:4px; flex-direction:row; justify-content:space-around; align-items:center;\" onmouseover=\"this.style.backgroundColor='#BA9BF8'\" onmouseout=\"this.style.backgroundColor='#9D6CFF'\" onclick=\"window.commands?.execute('create-mitosheet-from-dataframe-output');\">See Full Dataframe in Mito</div> <script> if (window.commands.hasCommand('create-mitosheet-from-dataframe-output')) document.getElementById('85b9a73b-ee93-4ffe-ae6e-f73003f3eb49').style.display = 'flex' </script> <table border=\"1\" class=\"dataframe\">\n",
       "  <thead>\n",
       "    <tr style=\"text-align: right;\">\n",
       "      <th></th>\n",
       "      <th>num_col</th>\n",
       "      <th>name_col</th>\n",
       "    </tr>\n",
       "  </thead>\n",
       "  <tbody>\n",
       "    <tr>\n",
       "      <th>0</th>\n",
       "      <td>3</td>\n",
       "      <td>bob</td>\n",
       "    </tr>\n",
       "    <tr>\n",
       "      <th>1</th>\n",
       "      <td>5.46</td>\n",
       "      <td>sue</td>\n",
       "    </tr>\n",
       "    <tr>\n",
       "      <th>2</th>\n",
       "      <td>62.1</td>\n",
       "      <td>steve</td>\n",
       "    </tr>\n",
       "    <tr>\n",
       "      <th>3</th>\n",
       "      <td>nan</td>\n",
       "      <td>24.5</td>\n",
       "    </tr>\n",
       "    <tr>\n",
       "      <th>4</th>\n",
       "      <td>False</td>\n",
       "      <td>kim</td>\n",
       "    </tr>\n",
       "    <tr>\n",
       "      <th>5</th>\n",
       "      <td>angie</td>\n",
       "      <td>True</td>\n",
       "    </tr>\n",
       "    <tr>\n",
       "      <th>6</th>\n",
       "      <td>3</td>\n",
       "      <td>nan</td>\n",
       "    </tr>\n",
       "  </tbody>\n",
       "</table></div>"
      ],
      "text/plain": [
       "  num_col name_col\n",
       "0       3      bob\n",
       "1    5.46      sue\n",
       "2    62.1    steve\n",
       "3     nan     24.5\n",
       "4   False      kim\n",
       "5   angie     True\n",
       "6       3      nan"
      ]
     },
     "execution_count": 5,
     "metadata": {},
     "output_type": "execute_result"
    }
   ],
   "source": [
    "df.head(7)"
   ]
  },
  {
   "cell_type": "code",
   "execution_count": 6,
   "metadata": {},
   "outputs": [
    {
     "data": {
      "text/plain": [
       "num_col     object\n",
       "name_col    object\n",
       "dtype: object"
      ]
     },
     "execution_count": 6,
     "metadata": {},
     "output_type": "execute_result"
    }
   ],
   "source": [
    "df.dtypes"
   ]
  },
  {
   "cell_type": "markdown",
   "metadata": {},
   "source": [
    "Note - object type can't detect our 'nan' entries.. so can't get those cleaned up until we address the other bad data"
   ]
  },
  {
   "cell_type": "code",
   "execution_count": 56,
   "metadata": {},
   "outputs": [
    {
     "data": {
      "text/plain": [
       "num_col     0\n",
       "name_col    0\n",
       "dtype: int64"
      ]
     },
     "execution_count": 56,
     "metadata": {},
     "output_type": "execute_result"
    }
   ],
   "source": [
    "df.isnull().sum()"
   ]
  },
  {
   "cell_type": "markdown",
   "metadata": {},
   "source": [
    "## Remove Chars and Booleans from a Numeric column (but keep NaNs for later review)"
   ]
  },
  {
   "cell_type": "code",
   "execution_count": 7,
   "metadata": {},
   "outputs": [],
   "source": [
    "#functionalized.  usage: char_finder(df, 'num_col')\n",
    "def char_finder(data_frame, series_name):\n",
    "    cnt=0\n",
    "    print(series_name)\n",
    "    for row in data_frame[series_name]:\n",
    "        try:\n",
    "            float(row) #changed to float to not flag NaNs or decimals.  \n",
    "            pass\n",
    "        except ValueError:\n",
    "            print(data_frame.loc[cnt, series_name], \"-> at row:\"+str(cnt))\n",
    "        cnt+=1"
   ]
  },
  {
   "cell_type": "code",
   "execution_count": 6,
   "metadata": {},
   "outputs": [
    {
     "name": "stdout",
     "output_type": "stream",
     "text": [
      "num_col\n",
      "False -> at row:4\n",
      "angie -> at row:5\n",
      "False -> at row:10\n",
      "angie -> at row:11\n",
      "False -> at row:16\n",
      "angie -> at row:17\n",
      "False -> at row:22\n",
      "angie -> at row:23\n",
      "False -> at row:28\n",
      "angie -> at row:29\n",
      "False -> at row:34\n",
      "angie -> at row:35\n",
      "False -> at row:40\n",
      "angie -> at row:41\n"
     ]
    }
   ],
   "source": [
    "char_finder(df, 'num_col')"
   ]
  },
  {
   "cell_type": "code",
   "execution_count": 7,
   "metadata": {},
   "outputs": [
    {
     "data": {
      "text/plain": [
       "dtype('O')"
      ]
     },
     "execution_count": 7,
     "metadata": {},
     "output_type": "execute_result"
    }
   ],
   "source": [
    "df.dtypes['num_col']"
   ]
  },
  {
   "cell_type": "code",
   "execution_count": 94,
   "metadata": {},
   "outputs": [],
   "source": [
    "#functionalized.  usage: char_finder(df, 'num_col')\n",
    "def char_fixer(data_frame, series_name):\n",
    "    cnt=0\n",
    "    for row in data_frame[series_name]:\n",
    "        try:\n",
    "            float(row) #changed to float to not flag NaNs or decimals.  \n",
    "            pass\n",
    "        except ValueError:\n",
    "            data_frame.drop([cnt], inplace=True) #or assign to some other desired value\n",
    "        cnt+=1\n",
    "    data_frame[series_name] = data_frame[series_name].astype('float64', errors='raise')\n",
    "    data_frame.reset_index(drop=True, inplace=True)"
   ]
  },
  {
   "cell_type": "code",
   "execution_count": 9,
   "metadata": {},
   "outputs": [],
   "source": [
    "char_fixer(df,'num_col')"
   ]
  },
  {
   "cell_type": "markdown",
   "metadata": {},
   "source": [
    "Let's check to see what type our column is now"
   ]
  },
  {
   "cell_type": "code",
   "execution_count": 10,
   "metadata": {},
   "outputs": [
    {
     "data": {
      "text/plain": [
       "dtype('float64')"
      ]
     },
     "execution_count": 10,
     "metadata": {},
     "output_type": "execute_result"
    }
   ],
   "source": [
    "df.dtypes['num_col']"
   ]
  },
  {
   "cell_type": "markdown",
   "metadata": {},
   "source": [
    "We can use the finder function to do one last check to make sure the characters are removed"
   ]
  },
  {
   "cell_type": "code",
   "execution_count": 11,
   "metadata": {},
   "outputs": [
    {
     "name": "stdout",
     "output_type": "stream",
     "text": [
      "num_col\n"
     ]
    }
   ],
   "source": [
    "char_finder(df, 'num_col')"
   ]
  },
  {
   "cell_type": "markdown",
   "metadata": {},
   "source": [
    "Make a version wheere all bad data is converted to NaN, not dropped."
   ]
  },
  {
   "cell_type": "code",
   "execution_count": 9,
   "metadata": {},
   "outputs": [],
   "source": [
    "#functionalized.  usage: char_finder(df, 'num_col')\n",
    "def char_fixer_nan(data_frame, series_name):\n",
    "    cnt=0\n",
    "    for row in data_frame[series_name]:\n",
    "        try:\n",
    "            float(row) #changed to float to not flag NaNs or decimals.  \n",
    "            pass\n",
    "        except ValueError:\n",
    "            data_frame.loc[cnt, series_name] = np.nan\n",
    "        cnt+=1\n",
    "    data_frame[series_name] = data_frame[series_name].astype('float64', errors='raise')"
   ]
  },
  {
   "cell_type": "code",
   "execution_count": 10,
   "metadata": {},
   "outputs": [],
   "source": [
    "char_fixer_nan(df,'num_col')"
   ]
  },
  {
   "cell_type": "code",
   "execution_count": 11,
   "metadata": {},
   "outputs": [
    {
     "data": {
      "text/html": [
       "<div><div id=eb6f9cbe-683c-4486-8d83-27f8b626c4f1 style=\"display:none; background-color:#9D6CFF; color:white; width:200px; height:30px; padding-left:5px; border-radius:4px; flex-direction:row; justify-content:space-around; align-items:center;\" onmouseover=\"this.style.backgroundColor='#BA9BF8'\" onmouseout=\"this.style.backgroundColor='#9D6CFF'\" onclick=\"window.commands?.execute('create-mitosheet-from-dataframe-output');\">See Full Dataframe in Mito</div> <script> if (window.commands.hasCommand('create-mitosheet-from-dataframe-output')) document.getElementById('eb6f9cbe-683c-4486-8d83-27f8b626c4f1').style.display = 'flex' </script> <table border=\"1\" class=\"dataframe\">\n",
       "  <thead>\n",
       "    <tr style=\"text-align: right;\">\n",
       "      <th></th>\n",
       "      <th>num_col</th>\n",
       "      <th>name_col</th>\n",
       "    </tr>\n",
       "  </thead>\n",
       "  <tbody>\n",
       "    <tr>\n",
       "      <th>0</th>\n",
       "      <td>3.00</td>\n",
       "      <td>bob</td>\n",
       "    </tr>\n",
       "    <tr>\n",
       "      <th>1</th>\n",
       "      <td>5.46</td>\n",
       "      <td>sue</td>\n",
       "    </tr>\n",
       "    <tr>\n",
       "      <th>2</th>\n",
       "      <td>62.10</td>\n",
       "      <td>steve</td>\n",
       "    </tr>\n",
       "    <tr>\n",
       "      <th>3</th>\n",
       "      <td>NaN</td>\n",
       "      <td>24.5</td>\n",
       "    </tr>\n",
       "    <tr>\n",
       "      <th>4</th>\n",
       "      <td>NaN</td>\n",
       "      <td>kim</td>\n",
       "    </tr>\n",
       "    <tr>\n",
       "      <th>...</th>\n",
       "      <td>...</td>\n",
       "      <td>...</td>\n",
       "    </tr>\n",
       "    <tr>\n",
       "      <th>37</th>\n",
       "      <td>5.46</td>\n",
       "      <td>steve</td>\n",
       "    </tr>\n",
       "    <tr>\n",
       "      <th>38</th>\n",
       "      <td>62.10</td>\n",
       "      <td>24.5</td>\n",
       "    </tr>\n",
       "    <tr>\n",
       "      <th>39</th>\n",
       "      <td>NaN</td>\n",
       "      <td>kim</td>\n",
       "    </tr>\n",
       "    <tr>\n",
       "      <th>40</th>\n",
       "      <td>NaN</td>\n",
       "      <td>True</td>\n",
       "    </tr>\n",
       "    <tr>\n",
       "      <th>41</th>\n",
       "      <td>NaN</td>\n",
       "      <td>nan</td>\n",
       "    </tr>\n",
       "  </tbody>\n",
       "</table></div>"
      ],
      "text/plain": [
       "    num_col name_col\n",
       "0      3.00      bob\n",
       "1      5.46      sue\n",
       "2     62.10    steve\n",
       "3       NaN     24.5\n",
       "4       NaN      kim\n",
       "5       NaN     True\n",
       "6      3.00      nan\n",
       "7      5.46      bob\n",
       "8     62.10      sue\n",
       "9       NaN    steve\n",
       "10      NaN     24.5\n",
       "11      NaN      kim\n",
       "12     3.00     True\n",
       "13     5.46      nan\n",
       "14    62.10      bob\n",
       "15      NaN      sue\n",
       "16      NaN    steve\n",
       "17      NaN     24.5\n",
       "18     3.00      kim\n",
       "19     5.46     True\n",
       "20    62.10      nan\n",
       "21      NaN      bob\n",
       "22      NaN      sue\n",
       "23      NaN    steve\n",
       "24     3.00     24.5\n",
       "25     5.46      kim\n",
       "26    62.10     True\n",
       "27      NaN      nan\n",
       "28      NaN      bob\n",
       "29      NaN      sue\n",
       "30     3.00    steve\n",
       "31     5.46     24.5\n",
       "32    62.10      kim\n",
       "33      NaN     True\n",
       "34      NaN      nan\n",
       "35      NaN      bob\n",
       "36     3.00      sue\n",
       "37     5.46    steve\n",
       "38    62.10     24.5\n",
       "39      NaN      kim\n",
       "40      NaN     True\n",
       "41      NaN      nan"
      ]
     },
     "execution_count": 11,
     "metadata": {},
     "output_type": "execute_result"
    }
   ],
   "source": [
    "df"
   ]
  },
  {
   "cell_type": "markdown",
   "metadata": {},
   "source": [
    "## Remove numbers and booleans from a character column"
   ]
  },
  {
   "cell_type": "code",
   "execution_count": 99,
   "metadata": {},
   "outputs": [],
   "source": [
    "df = pd.DataFrame({'num_col'  : np.tile([3, 5.46, 62.1, np.nan, False, 'angie'], 7),\n",
    "                   'name_col' : np.tile(['bob', 'sue', 'steve', 24.5, 'kim', True, np.nan], 6)})"
   ]
  },
  {
   "cell_type": "markdown",
   "metadata": {},
   "source": [
    "Keep in mind that Pandas cast booleans to strings in the dataframe conversion."
   ]
  },
  {
   "cell_type": "code",
   "execution_count": 100,
   "metadata": {},
   "outputs": [
    {
     "data": {
      "text/plain": [
       "'True'"
      ]
     },
     "execution_count": 100,
     "metadata": {},
     "output_type": "execute_result"
    }
   ],
   "source": [
    "df['name_col'][5]"
   ]
  },
  {
   "cell_type": "code",
   "execution_count": 101,
   "metadata": {},
   "outputs": [
    {
     "data": {
      "text/plain": [
       "False"
      ]
     },
     "execution_count": 101,
     "metadata": {},
     "output_type": "execute_result"
    }
   ],
   "source": [
    "isinstance(df['name_col'][5], bool)"
   ]
  },
  {
   "cell_type": "markdown",
   "metadata": {},
   "source": [
    "Therefore, float() will not be able to separate the booleans from the character values, and we'll have to deal with them separately"
   ]
  },
  {
   "cell_type": "code",
   "execution_count": 102,
   "metadata": {},
   "outputs": [],
   "source": [
    "#functionalized.  usage: num_finder(df, 'name_col')\n",
    "def num_finder(data_frame, series_name):\n",
    "    cnt=0\n",
    "    for row in data_frame[series_name]:\n",
    "        try:\n",
    "            int(float(row)) # if no error, report found numeric in bottom 'else:'\n",
    "        except ValueError:\n",
    "            if row=='True' or row=='False':\n",
    "                # report the True or False entries\n",
    "                print(data_frame.loc[cnt, series_name], \"-> at row:\"+str(cnt))\n",
    "            else: #Chars or NaNs\n",
    "                pass\n",
    "        else:\n",
    "            print(data_frame.loc[cnt, series_name], \"-> at row:\"+str(cnt))\n",
    "        cnt+=1"
   ]
  },
  {
   "cell_type": "code",
   "execution_count": 103,
   "metadata": {
    "tags": []
   },
   "outputs": [
    {
     "name": "stdout",
     "output_type": "stream",
     "text": [
      "24.5 -> at row:3\n",
      "True -> at row:5\n",
      "24.5 -> at row:10\n",
      "True -> at row:12\n",
      "24.5 -> at row:17\n",
      "True -> at row:19\n",
      "24.5 -> at row:24\n",
      "True -> at row:26\n",
      "24.5 -> at row:31\n",
      "True -> at row:33\n",
      "24.5 -> at row:38\n",
      "True -> at row:40\n"
     ]
    }
   ],
   "source": [
    "num_finder(df,'name_col')"
   ]
  },
  {
   "cell_type": "code",
   "execution_count": 104,
   "metadata": {},
   "outputs": [],
   "source": [
    "#functionalized.  usage: num_fixer(df, 'name_col')\n",
    "def num_fixer(data_frame, series_name):\n",
    "    cnt=0\n",
    "    for row in data_frame[series_name]:\n",
    "        try:\n",
    "            int(float(row)) # if no error, drop it in the bottom else:'\n",
    "        except ValueError:\n",
    "            if row=='True' or row=='False': #drop if would-be boolean\n",
    "                data_frame.drop([cnt], inplace=True) \n",
    "            elif row=='nan':\n",
    "                data_frame.loc[cnt, series_name] = np.nan\n",
    "            else: #Chars or NaNs\n",
    "                pass\n",
    "        else:\n",
    "            data_frame.drop([cnt], inplace=True) \n",
    "        cnt+=1\n",
    "    data_frame[series_name] = data_frame[series_name].astype('string', errors='raise')\n",
    "    data_frame.reset_index(drop=True, inplace=True)  "
   ]
  },
  {
   "cell_type": "code",
   "execution_count": 105,
   "metadata": {},
   "outputs": [],
   "source": [
    "num_fixer(df,'name_col')"
   ]
  },
  {
   "cell_type": "code",
   "execution_count": 106,
   "metadata": {},
   "outputs": [],
   "source": [
    "char_fixer(df,'num_col')"
   ]
  },
  {
   "cell_type": "code",
   "execution_count": 117,
   "metadata": {},
   "outputs": [
    {
     "data": {
      "text/html": [
       "<div><div id=966d476a-a6cf-48ee-883d-622eb99036c0 style=\"display:none; background-color:#9D6CFF; color:white; width:200px; height:30px; padding-left:5px; border-radius:4px; flex-direction:row; justify-content:space-around; align-items:center;\" onmouseover=\"this.style.backgroundColor='#BA9BF8'\" onmouseout=\"this.style.backgroundColor='#9D6CFF'\" onclick=\"window.commands?.execute('create-mitosheet-from-dataframe-output');\">See Full Dataframe in Mito</div> <script> if (window.commands.hasCommand('create-mitosheet-from-dataframe-output')) document.getElementById('966d476a-a6cf-48ee-883d-622eb99036c0').style.display = 'flex' </script> <table border=\"1\" class=\"dataframe\">\n",
       "  <thead>\n",
       "    <tr style=\"text-align: right;\">\n",
       "      <th></th>\n",
       "      <th>num_col</th>\n",
       "      <th>name_col</th>\n",
       "    </tr>\n",
       "  </thead>\n",
       "  <tbody>\n",
       "    <tr>\n",
       "      <th>0</th>\n",
       "      <td>3.00</td>\n",
       "      <td>bob</td>\n",
       "    </tr>\n",
       "    <tr>\n",
       "      <th>1</th>\n",
       "      <td>5.46</td>\n",
       "      <td>sue</td>\n",
       "    </tr>\n",
       "    <tr>\n",
       "      <th>2</th>\n",
       "      <td>62.10</td>\n",
       "      <td>steve</td>\n",
       "    </tr>\n",
       "    <tr>\n",
       "      <th>3</th>\n",
       "      <td>3.00</td>\n",
       "      <td>&lt;NA&gt;</td>\n",
       "    </tr>\n",
       "    <tr>\n",
       "      <th>4</th>\n",
       "      <td>5.46</td>\n",
       "      <td>bob</td>\n",
       "    </tr>\n",
       "    <tr>\n",
       "      <th>5</th>\n",
       "      <td>62.10</td>\n",
       "      <td>sue</td>\n",
       "    </tr>\n",
       "    <tr>\n",
       "      <th>6</th>\n",
       "      <td>NaN</td>\n",
       "      <td>steve</td>\n",
       "    </tr>\n",
       "    <tr>\n",
       "      <th>7</th>\n",
       "      <td>5.46</td>\n",
       "      <td>&lt;NA&gt;</td>\n",
       "    </tr>\n",
       "    <tr>\n",
       "      <th>8</th>\n",
       "      <td>62.10</td>\n",
       "      <td>bob</td>\n",
       "    </tr>\n",
       "    <tr>\n",
       "      <th>9</th>\n",
       "      <td>NaN</td>\n",
       "      <td>sue</td>\n",
       "    </tr>\n",
       "  </tbody>\n",
       "</table></div>"
      ],
      "text/plain": [
       "   num_col name_col\n",
       "0     3.00      bob\n",
       "1     5.46      sue\n",
       "2    62.10    steve\n",
       "3     3.00     <NA>\n",
       "4     5.46      bob\n",
       "5    62.10      sue\n",
       "6      NaN    steve\n",
       "7     5.46     <NA>\n",
       "8    62.10      bob\n",
       "9      NaN      sue"
      ]
     },
     "execution_count": 117,
     "metadata": {},
     "output_type": "execute_result"
    }
   ],
   "source": [
    "df.head(10)"
   ]
  },
  {
   "cell_type": "code",
   "execution_count": 108,
   "metadata": {
    "tags": []
   },
   "outputs": [
    {
     "data": {
      "text/plain": [
       "num_col     float64\n",
       "name_col     string\n",
       "dtype: object"
      ]
     },
     "execution_count": 108,
     "metadata": {},
     "output_type": "execute_result"
    }
   ],
   "source": [
    "df.dtypes"
   ]
  },
  {
   "cell_type": "code",
   "execution_count": 109,
   "metadata": {},
   "outputs": [
    {
     "data": {
      "text/plain": [
       "num_col     5\n",
       "name_col    4\n",
       "dtype: int64"
      ]
     },
     "execution_count": 109,
     "metadata": {},
     "output_type": "execute_result"
    }
   ],
   "source": [
    "df.isnull().sum()"
   ]
  },
  {
   "cell_type": "code",
   "execution_count": 97,
   "metadata": {},
   "outputs": [
    {
     "name": "stdout",
     "output_type": "stream",
     "text": [
      "<class 'pandas.core.frame.DataFrame'>\n",
      "RangeIndex: 20 entries, 0 to 19\n",
      "Data columns (total 2 columns):\n",
      " #   Column    Non-Null Count  Dtype  \n",
      "---  ------    --------------  -----  \n",
      " 0   num_col   15 non-null     float64\n",
      " 1   name_col  16 non-null     string \n",
      "dtypes: float64(1), string(1)\n",
      "memory usage: 448.0 bytes\n"
     ]
    }
   ],
   "source": [
    "df.info()"
   ]
  },
  {
   "cell_type": "markdown",
   "metadata": {},
   "source": [
    "Make a version where we don't drop anything.... all go to NaNs"
   ]
  },
  {
   "cell_type": "code",
   "execution_count": 87,
   "metadata": {},
   "outputs": [],
   "source": [
    "#functionalized.  usage: num_fixer_nan(df, 'name_col')\n",
    "def num_fixer_nan(data_frame, series_name):\n",
    "    cnt=0\n",
    "    for row in data_frame[series_name]:\n",
    "        try:\n",
    "            int(float(row)) # if no error, drop it in the bottom else:'\n",
    "        except ValueError:\n",
    "            if row=='True' or row=='False': #drop if would-be boolean\n",
    "                data_frame.loc[cnt, series_name] = np.nan\n",
    "            elif row=='nan':\n",
    "                data_frame.loc[cnt, series_name] = np.nan\n",
    "            else: #Chars or NaNs\n",
    "                pass\n",
    "        else:\n",
    "            data_frame.loc[cnt, series_name] = np.nan\n",
    "        cnt+=1\n",
    "    data_frame[series_name] = data_frame[series_name].astype('string', errors='raise')\n",
    "    data_frame.reset_index(drop=True, inplace=True)"
   ]
  },
  {
   "cell_type": "code",
   "execution_count": 22,
   "metadata": {},
   "outputs": [],
   "source": [
    "num_fixer_nan(df,'name_col')"
   ]
  },
  {
   "cell_type": "code",
   "execution_count": 23,
   "metadata": {},
   "outputs": [
    {
     "data": {
      "text/html": [
       "<div><div id=3f81ee97-3656-4afc-8827-ad76f5487725 style=\"display:none; background-color:#9D6CFF; color:white; width:200px; height:30px; padding-left:5px; border-radius:4px; flex-direction:row; justify-content:space-around; align-items:center;\" onmouseover=\"this.style.backgroundColor='#BA9BF8'\" onmouseout=\"this.style.backgroundColor='#9D6CFF'\" onclick=\"window.commands?.execute('create-mitosheet-from-dataframe-output');\">See Full Dataframe in Mito</div> <script> if (window.commands.hasCommand('create-mitosheet-from-dataframe-output')) document.getElementById('3f81ee97-3656-4afc-8827-ad76f5487725').style.display = 'flex' </script> <table border=\"1\" class=\"dataframe\">\n",
       "  <thead>\n",
       "    <tr style=\"text-align: right;\">\n",
       "      <th></th>\n",
       "      <th>num_col</th>\n",
       "      <th>name_col</th>\n",
       "    </tr>\n",
       "  </thead>\n",
       "  <tbody>\n",
       "    <tr>\n",
       "      <th>0</th>\n",
       "      <td>3</td>\n",
       "      <td>bob</td>\n",
       "    </tr>\n",
       "    <tr>\n",
       "      <th>1</th>\n",
       "      <td>5.46</td>\n",
       "      <td>sue</td>\n",
       "    </tr>\n",
       "    <tr>\n",
       "      <th>2</th>\n",
       "      <td>62.1</td>\n",
       "      <td>steve</td>\n",
       "    </tr>\n",
       "    <tr>\n",
       "      <th>3</th>\n",
       "      <td>nan</td>\n",
       "      <td>&lt;NA&gt;</td>\n",
       "    </tr>\n",
       "    <tr>\n",
       "      <th>4</th>\n",
       "      <td>False</td>\n",
       "      <td>kim</td>\n",
       "    </tr>\n",
       "    <tr>\n",
       "      <th>...</th>\n",
       "      <td>...</td>\n",
       "      <td>...</td>\n",
       "    </tr>\n",
       "    <tr>\n",
       "      <th>37</th>\n",
       "      <td>5.46</td>\n",
       "      <td>steve</td>\n",
       "    </tr>\n",
       "    <tr>\n",
       "      <th>38</th>\n",
       "      <td>62.1</td>\n",
       "      <td>&lt;NA&gt;</td>\n",
       "    </tr>\n",
       "    <tr>\n",
       "      <th>39</th>\n",
       "      <td>nan</td>\n",
       "      <td>kim</td>\n",
       "    </tr>\n",
       "    <tr>\n",
       "      <th>40</th>\n",
       "      <td>False</td>\n",
       "      <td>&lt;NA&gt;</td>\n",
       "    </tr>\n",
       "    <tr>\n",
       "      <th>41</th>\n",
       "      <td>angie</td>\n",
       "      <td>nan</td>\n",
       "    </tr>\n",
       "  </tbody>\n",
       "</table></div>"
      ],
      "text/plain": [
       "   num_col name_col\n",
       "0        3      bob\n",
       "1     5.46      sue\n",
       "2     62.1    steve\n",
       "3      nan     <NA>\n",
       "4    False      kim\n",
       "5    angie     <NA>\n",
       "6        3      nan\n",
       "7     5.46      bob\n",
       "8     62.1      sue\n",
       "9      nan    steve\n",
       "10   False     <NA>\n",
       "11   angie      kim\n",
       "12       3     <NA>\n",
       "13    5.46      nan\n",
       "14    62.1      bob\n",
       "15     nan      sue\n",
       "16   False    steve\n",
       "17   angie     <NA>\n",
       "18       3      kim\n",
       "19    5.46     <NA>\n",
       "20    62.1      nan\n",
       "21     nan      bob\n",
       "22   False      sue\n",
       "23   angie    steve\n",
       "24       3     <NA>\n",
       "25    5.46      kim\n",
       "26    62.1     <NA>\n",
       "27     nan      nan\n",
       "28   False      bob\n",
       "29   angie      sue\n",
       "30       3    steve\n",
       "31    5.46     <NA>\n",
       "32    62.1      kim\n",
       "33     nan     <NA>\n",
       "34   False      nan\n",
       "35   angie      bob\n",
       "36       3      sue\n",
       "37    5.46    steve\n",
       "38    62.1     <NA>\n",
       "39     nan      kim\n",
       "40   False     <NA>\n",
       "41   angie      nan"
      ]
     },
     "execution_count": 23,
     "metadata": {},
     "output_type": "execute_result"
    }
   ],
   "source": [
    "df"
   ]
  },
  {
   "cell_type": "code",
   "execution_count": 24,
   "metadata": {},
   "outputs": [],
   "source": [
    "df.dropna(inplace=True)"
   ]
  },
  {
   "cell_type": "code",
   "execution_count": 25,
   "metadata": {},
   "outputs": [
    {
     "data": {
      "text/plain": [
       "0"
      ]
     },
     "execution_count": 25,
     "metadata": {},
     "output_type": "execute_result"
    }
   ],
   "source": [
    "df['name_col'].isnull().values.sum()"
   ]
  },
  {
   "cell_type": "code",
   "execution_count": 26,
   "metadata": {},
   "outputs": [
    {
     "data": {
      "text/html": [
       "<div><div id=44904525-f948-421b-84b9-4cf92b34fd7c style=\"display:none; background-color:#9D6CFF; color:white; width:200px; height:30px; padding-left:5px; border-radius:4px; flex-direction:row; justify-content:space-around; align-items:center;\" onmouseover=\"this.style.backgroundColor='#BA9BF8'\" onmouseout=\"this.style.backgroundColor='#9D6CFF'\" onclick=\"window.commands?.execute('create-mitosheet-from-dataframe-output');\">See Full Dataframe in Mito</div> <script> if (window.commands.hasCommand('create-mitosheet-from-dataframe-output')) document.getElementById('44904525-f948-421b-84b9-4cf92b34fd7c').style.display = 'flex' </script> <table border=\"1\" class=\"dataframe\">\n",
       "  <thead>\n",
       "    <tr style=\"text-align: right;\">\n",
       "      <th></th>\n",
       "      <th>num_col</th>\n",
       "      <th>name_col</th>\n",
       "    </tr>\n",
       "  </thead>\n",
       "  <tbody>\n",
       "    <tr>\n",
       "      <th>0</th>\n",
       "      <td>3</td>\n",
       "      <td>bob</td>\n",
       "    </tr>\n",
       "    <tr>\n",
       "      <th>1</th>\n",
       "      <td>5.46</td>\n",
       "      <td>sue</td>\n",
       "    </tr>\n",
       "    <tr>\n",
       "      <th>2</th>\n",
       "      <td>62.1</td>\n",
       "      <td>steve</td>\n",
       "    </tr>\n",
       "    <tr>\n",
       "      <th>4</th>\n",
       "      <td>False</td>\n",
       "      <td>kim</td>\n",
       "    </tr>\n",
       "    <tr>\n",
       "      <th>6</th>\n",
       "      <td>3</td>\n",
       "      <td>nan</td>\n",
       "    </tr>\n",
       "    <tr>\n",
       "      <th>...</th>\n",
       "      <td>...</td>\n",
       "      <td>...</td>\n",
       "    </tr>\n",
       "    <tr>\n",
       "      <th>35</th>\n",
       "      <td>angie</td>\n",
       "      <td>bob</td>\n",
       "    </tr>\n",
       "    <tr>\n",
       "      <th>36</th>\n",
       "      <td>3</td>\n",
       "      <td>sue</td>\n",
       "    </tr>\n",
       "    <tr>\n",
       "      <th>37</th>\n",
       "      <td>5.46</td>\n",
       "      <td>steve</td>\n",
       "    </tr>\n",
       "    <tr>\n",
       "      <th>39</th>\n",
       "      <td>nan</td>\n",
       "      <td>kim</td>\n",
       "    </tr>\n",
       "    <tr>\n",
       "      <th>41</th>\n",
       "      <td>angie</td>\n",
       "      <td>nan</td>\n",
       "    </tr>\n",
       "  </tbody>\n",
       "</table></div>"
      ],
      "text/plain": [
       "   num_col name_col\n",
       "0        3      bob\n",
       "1     5.46      sue\n",
       "2     62.1    steve\n",
       "4    False      kim\n",
       "6        3      nan\n",
       "7     5.46      bob\n",
       "8     62.1      sue\n",
       "9      nan    steve\n",
       "11   angie      kim\n",
       "13    5.46      nan\n",
       "14    62.1      bob\n",
       "15     nan      sue\n",
       "16   False    steve\n",
       "18       3      kim\n",
       "20    62.1      nan\n",
       "21     nan      bob\n",
       "22   False      sue\n",
       "23   angie    steve\n",
       "25    5.46      kim\n",
       "27     nan      nan\n",
       "28   False      bob\n",
       "29   angie      sue\n",
       "30       3    steve\n",
       "32    62.1      kim\n",
       "34   False      nan\n",
       "35   angie      bob\n",
       "36       3      sue\n",
       "37    5.46    steve\n",
       "39     nan      kim\n",
       "41   angie      nan"
      ]
     },
     "execution_count": 26,
     "metadata": {},
     "output_type": "execute_result"
    }
   ],
   "source": [
    "df"
   ]
  },
  {
   "cell_type": "markdown",
   "metadata": {},
   "source": [
    "## Speed of functions"
   ]
  },
  {
   "cell_type": "markdown",
   "metadata": {},
   "source": [
    "Testing on fixer function as %timeit runs 1000s of loops and finder functions print out data"
   ]
  },
  {
   "cell_type": "code",
   "execution_count": 67,
   "metadata": {},
   "outputs": [],
   "source": [
    "dfbig = pd.DataFrame({'name_col' : np.tile(['bob', 'sue', 'steve', 24.5, 'kim', True, np.nan], 6000),\n",
    "                      'num_col'  : np.tile([3, 5.46, 62.1, np.nan, False, 'angie'], 7000)})"
   ]
  },
  {
   "cell_type": "code",
   "execution_count": 64,
   "metadata": {},
   "outputs": [
    {
     "data": {
      "text/plain": [
       "(42000, 2)"
      ]
     },
     "execution_count": 64,
     "metadata": {},
     "output_type": "execute_result"
    }
   ],
   "source": [
    "dfbig.shape"
   ]
  },
  {
   "cell_type": "code",
   "execution_count": 65,
   "metadata": {},
   "outputs": [
    {
     "name": "stdout",
     "output_type": "stream",
     "text": [
      "9.74 ms ± 1.14 ms per loop (mean ± std. dev. of 7 runs, 1 loop each)\n"
     ]
    }
   ],
   "source": [
    "%timeit  char_fixer(dfbig,'num_col')"
   ]
  },
  {
   "cell_type": "markdown",
   "metadata": {
    "tags": []
   },
   "source": [
    "### Try to be faster by using pandas apply() instead"
   ]
  },
  {
   "cell_type": "code",
   "execution_count": 66,
   "metadata": {},
   "outputs": [],
   "source": [
    "def char_by_line_fixer(element):\n",
    "    try:\n",
    "        float(element) #changed to float to not flag NaNs or decimals.  Adjust as necessary\n",
    "        return element\n",
    "    except ValueError:\n",
    "        return np.nan"
   ]
  },
  {
   "cell_type": "code",
   "execution_count": null,
   "metadata": {},
   "outputs": [],
   "source": [
    "dfbig['num_col'] = dfbig['num_col'].apply(char_by_line_fixer)"
   ]
  },
  {
   "cell_type": "code",
   "execution_count": 68,
   "metadata": {},
   "outputs": [
    {
     "name": "stdout",
     "output_type": "stream",
     "text": [
      "22.6 ms ± 2.59 ms per loop (mean ± std. dev. of 7 runs, 100 loops each)\n"
     ]
    }
   ],
   "source": [
    "%timeit dfbig['num_col'] = dfbig['num_col'].apply(char_by_line_fixer)"
   ]
  },
  {
   "cell_type": "code",
   "execution_count": 28,
   "metadata": {},
   "outputs": [
    {
     "name": "stdout",
     "output_type": "stream",
     "text": [
      "num_col\n"
     ]
    }
   ],
   "source": [
    "char_finder(dfbig, 'num_col')"
   ]
  },
  {
   "cell_type": "code",
   "execution_count": 29,
   "metadata": {},
   "outputs": [
    {
     "data": {
      "text/html": [
       "<div><div id=0603d986-05e6-44e9-a3c0-2cbab38a6a9c style=\"display:none; background-color:#9D6CFF; color:white; width:200px; height:30px; padding-left:5px; border-radius:4px; flex-direction:row; justify-content:space-around; align-items:center;\" onmouseover=\"this.style.backgroundColor='#BA9BF8'\" onmouseout=\"this.style.backgroundColor='#9D6CFF'\" onclick=\"window.commands?.execute('create-mitosheet-from-dataframe-output');\">See Full Dataframe in Mito</div> <script> if (window.commands.hasCommand('create-mitosheet-from-dataframe-output')) document.getElementById('0603d986-05e6-44e9-a3c0-2cbab38a6a9c').style.display = 'flex' </script> <table border=\"1\" class=\"dataframe\">\n",
       "  <thead>\n",
       "    <tr style=\"text-align: right;\">\n",
       "      <th></th>\n",
       "      <th>name_col</th>\n",
       "      <th>num_col</th>\n",
       "    </tr>\n",
       "  </thead>\n",
       "  <tbody>\n",
       "    <tr>\n",
       "      <th>0</th>\n",
       "      <td>bob</td>\n",
       "      <td>3.00</td>\n",
       "    </tr>\n",
       "    <tr>\n",
       "      <th>1</th>\n",
       "      <td>sue</td>\n",
       "      <td>5.46</td>\n",
       "    </tr>\n",
       "    <tr>\n",
       "      <th>2</th>\n",
       "      <td>steve</td>\n",
       "      <td>62.10</td>\n",
       "    </tr>\n",
       "    <tr>\n",
       "      <th>3</th>\n",
       "      <td>24.5</td>\n",
       "      <td>NaN</td>\n",
       "    </tr>\n",
       "    <tr>\n",
       "      <th>4</th>\n",
       "      <td>nan</td>\n",
       "      <td>3.00</td>\n",
       "    </tr>\n",
       "    <tr>\n",
       "      <th>5</th>\n",
       "      <td>bob</td>\n",
       "      <td>5.46</td>\n",
       "    </tr>\n",
       "    <tr>\n",
       "      <th>6</th>\n",
       "      <td>sue</td>\n",
       "      <td>62.10</td>\n",
       "    </tr>\n",
       "  </tbody>\n",
       "</table></div>"
      ],
      "text/plain": [
       "  name_col  num_col\n",
       "0      bob     3.00\n",
       "1      sue     5.46\n",
       "2    steve    62.10\n",
       "3     24.5      NaN\n",
       "4      nan     3.00\n",
       "5      bob     5.46\n",
       "6      sue    62.10"
      ]
     },
     "execution_count": 29,
     "metadata": {},
     "output_type": "execute_result"
    }
   ],
   "source": [
    "dfbig.head(7)"
   ]
  }
 ],
 "metadata": {
  "kernelspec": {
   "display_name": "Python 3",
   "language": "python",
   "name": "python3"
  },
  "language_info": {
   "codemirror_mode": {
    "name": "ipython",
    "version": 3
   },
   "file_extension": ".py",
   "mimetype": "text/x-python",
   "name": "python",
   "nbconvert_exporter": "python",
   "pygments_lexer": "ipython3",
   "version": "3.8.5"
  },
  "toc-autonumbering": true
 },
 "nbformat": 4,
 "nbformat_minor": 4
}
